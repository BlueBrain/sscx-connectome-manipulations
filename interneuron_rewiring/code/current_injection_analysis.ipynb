{
 "cells": [
  {
   "cell_type": "markdown",
   "metadata": {},
   "source": [
    "```\n",
    "This file is part of sscx-connectome-manipulations.\n",
    "\n",
    "SPDX-License-Identifier: Apache-2.0\n",
    "Copyright (c) 2024 Blue Brain Project/EPFL\n",
    "```"
   ]
  },
  {
   "cell_type": "markdown",
   "metadata": {},
   "source": [
    "# Analysis notebook of current injection simulations\n",
    "\n",
    "ℹ️ Reproduction of interneuron rewiring results described in [Pokorny et al. (2024)](https://doi.org/10.1101/2024.05.24.593860)\n",
    "\n",
    "<u>Requirements</u>:\n",
    "- [BlueETL](https://github.com/BlueBrain/blueetl) (Python venv)\n",
    "- [Blue Brain SNAP](https://github.com/BlueBrain/snap) (Python venv)\n",
    "- [CortexETL](https://github.com/BlueBrain/cortexetl) (Cloned repo)\n",
    "- Simulation results (see instructions in `README.md` on how to rerun the simulations; also available on [Zenodo](https://zenodo.org/))"
   ]
  },
  {
   "cell_type": "code",
   "execution_count": 1,
   "metadata": {},
   "outputs": [],
   "source": [
    "from bluepysnap import Simulation\n",
    "import numpy as np\n",
    "import matplotlib.pyplot as plt\n",
    "import os"
   ]
  },
  {
   "cell_type": "markdown",
   "metadata": {},
   "source": [
    "ℹ️ Set path to cloned CortexETL repository below"
   ]
  },
  {
   "cell_type": "code",
   "execution_count": 2,
   "metadata": {},
   "outputs": [],
   "source": [
    "# Set path to cloned CortexETL repository\n",
    "import sys\n",
    "sys.path.append('/gpfs/bbp.cscs.ch/home/pokorny/JupyterLab/git/cortex_etl')\n",
    "import cortex_etl as c_etl"
   ]
  },
  {
   "cell_type": "markdown",
   "metadata": {},
   "source": [
    "Run data analysis using CortexETL\n",
    "\n",
    "ℹ️ Before running the analyses, set paths in `../configs/cortexetl_analysis_config__<...>.yaml` accordingly:\n",
    "- \"simulation_campaign\" ... pointing to `config.json` from respective simulation campaign\n",
    "  - In `config.json`: Make sure that \"path_prefix\" is pointing to actual simulation campaign folder!\n",
    "- \"output\" ... pointing to some output folder to which the analysis results will be written"
   ]
  },
  {
   "cell_type": "code",
   "execution_count": 4,
   "metadata": {},
   "outputs": [],
   "source": [
    "# Run (or reload) analysis\n",
    "ma_orig = c_etl.run_from_file(f\"../configs/cortexetl_analysis_config__orig_{sim_spec}.yaml\", loglevel=\"WARNING\")\n",
    "ma_manip = c_etl.run_from_file(f\"../configs/cortexetl_analysis_config__manip_{sim_spec}.yaml\", loglevel=\"WARNING\")"
   ]
  },
  {
   "cell_type": "code",
   "execution_count": null,
   "metadata": {},
   "outputs": [],
   "source": []
  },
  {
   "cell_type": "markdown",
   "metadata": {},
   "source": [
    "Once completed successfully, the results will be stored in the following folder and can be used to reproduce results figures using `connectome_manipulator_figs_functional.ipynb`"
   ]
  },
  {
   "cell_type": "code",
   "execution_count": 37,
   "metadata": {},
   "outputs": [
    {
     "name": "stdout",
     "output_type": "stream",
     "text": [
      "Available analysis results:\n",
      "  Orig \"spikes\": /gpfs/bbp.cscs.ch/data/scratch/proj83/home/pokorny/ResultsTMP/interneuron_rewiring/analysis/orig/Ca1p05_Pfr0p3_Rou0p4/spikes\n",
      "  Manip \"spikes\": /gpfs/bbp.cscs.ch/data/scratch/proj83/home/pokorny/ResultsTMP/interneuron_rewiring/analysis/manip/Ca1p05_Pfr0p3_Rou0p4/spikes\n"
     ]
    }
   ],
   "source": [
    "print(\"Available analysis results:\")\n",
    "for _name, _anlyz in ma_orig.analyzers.items():\n",
    "    print(f'  Orig \"{_name}\": {_anlyz.analysis_config.output}')\n",
    "for _name, _anlyz in ma_manip.analyzers.items():\n",
    "    print(f'  Manip \"{_name}\": {_anlyz.analysis_config.output}')"
   ]
  },
  {
   "cell_type": "code",
   "execution_count": null,
   "metadata": {},
   "outputs": [],
   "source": []
  }
 ],
 "metadata": {
  "kernelspec": {
   "display_name": "CortexETLKernel",
   "language": "python",
   "name": "cortexetlkernel"
  },
  "language_info": {
   "codemirror_mode": {
    "name": "ipython",
    "version": 3
   },
   "file_extension": ".py",
   "mimetype": "text/x-python",
   "name": "python",
   "nbconvert_exporter": "python",
   "pygments_lexer": "ipython3",
   "version": "3.10.8"
  }
 },
 "nbformat": 4,
 "nbformat_minor": 4
}
