{
 "cells": [
  {
   "cell_type": "markdown",
   "metadata": {},
   "source": [
    "```\n",
    "This file is part of sscx-connectome-manipulations.\n",
    "\n",
    "SPDX-License-Identifier: Apache-2.0\n",
    "Copyright (c) 2024 Blue Brain Project/EPFL\n",
    "```"
   ]
  },
  {
   "cell_type": "markdown",
   "metadata": {},
   "source": [
    "# Figures related to SSCx connectome manipulations\n",
    "\n",
    "## Part III: Benchmark figures\n",
    "\n",
    "We demonstrate the applicability of our [Connectome-Manipulator](https://github.com/BlueBrain/connectome-manipulator) framework by manipulating the connectome of a detailed model of the rat somatosensory cortex (SSCx) and quantifying functional changes through network simulations.\n",
    "\n",
    "ℹ️ This notebook reproduces the benchmark figures from [Pokorny et al. (2024)](https://doi.org/10.1101/2024.05.24.593860)\n",
    "\n",
    "<u>Requirements</u>:\n",
    "- Results from benchmarks (available on [Zenodo](https://zenodo.org/); see instructions in `README.md` on how to recompute)"
   ]
  },
  {
   "cell_type": "code",
   "execution_count": 1,
   "metadata": {},
   "outputs": [],
   "source": [
    "import json\n",
    "import matplotlib.pyplot as plt\n",
    "import numpy as np\n",
    "import pandas as pd\n",
    "import os\n",
    "\n",
    "from matplotlib.ticker import NullLocator"
   ]
  },
  {
   "cell_type": "code",
   "execution_count": 2,
   "metadata": {},
   "outputs": [],
   "source": [
    "# Set and create output figures folder\n",
    "figs_path = './figs_benchm'\n",
    "if not os.path.exists(figs_path):\n",
    "    os.makedirs(figs_path)"
   ]
  },
  {
   "cell_type": "code",
   "execution_count": null,
   "metadata": {},
   "outputs": [],
   "source": []
  },
  {
   "cell_type": "markdown",
   "metadata": {},
   "source": [
    "## Strong scaling plot\n",
    "\n",
    "The strong scaling benchmark shows how the overall computation time for rewiring a connectome scales with the number of processing units (CPUs). This is usually plotted in log-log scale.\n",
    "\n",
    "ℹ️ Set results path below pointing to the location of the benchmark results"
   ]
  },
  {
   "cell_type": "code",
   "execution_count": 3,
   "metadata": {},
   "outputs": [],
   "source": [
    "res_file = '/gpfs/bbp.cscs.ch/data/scratch/proj83/home/pokorny/Zenodo/SSCx-connectome-manipulation-data/benchmarks/runtimes_strong_scaling.csv'"
   ]
  },
  {
   "cell_type": "code",
   "execution_count": 4,
   "metadata": {},
   "outputs": [
    {
     "data": {
      "text/html": [
       "<div>\n",
       "<style scoped>\n",
       "    .dataframe tbody tr th:only-of-type {\n",
       "        vertical-align: middle;\n",
       "    }\n",
       "\n",
       "    .dataframe tbody tr th {\n",
       "        vertical-align: top;\n",
       "    }\n",
       "\n",
       "    .dataframe thead th {\n",
       "        text-align: right;\n",
       "    }\n",
       "</style>\n",
       "<table border=\"1\" class=\"dataframe\">\n",
       "  <thead>\n",
       "    <tr style=\"text-align: right;\">\n",
       "      <th></th>\n",
       "      <th>seconds</th>\n",
       "      <th>error</th>\n",
       "      <th>optimal_seconds</th>\n",
       "    </tr>\n",
       "    <tr>\n",
       "      <th>processes</th>\n",
       "      <th></th>\n",
       "      <th></th>\n",
       "      <th></th>\n",
       "    </tr>\n",
       "  </thead>\n",
       "  <tbody>\n",
       "    <tr>\n",
       "      <th>4</th>\n",
       "      <td>18501.0</td>\n",
       "      <td>939.037805</td>\n",
       "      <td>18501.000000</td>\n",
       "    </tr>\n",
       "    <tr>\n",
       "      <th>8</th>\n",
       "      <td>9832.0</td>\n",
       "      <td>210.717821</td>\n",
       "      <td>9250.500000</td>\n",
       "    </tr>\n",
       "    <tr>\n",
       "      <th>16</th>\n",
       "      <td>5502.5</td>\n",
       "      <td>225.567063</td>\n",
       "      <td>4625.250000</td>\n",
       "    </tr>\n",
       "    <tr>\n",
       "      <th>32</th>\n",
       "      <td>3089.5</td>\n",
       "      <td>50.204581</td>\n",
       "      <td>2312.625000</td>\n",
       "    </tr>\n",
       "    <tr>\n",
       "      <th>64</th>\n",
       "      <td>1925.5</td>\n",
       "      <td>296.277741</td>\n",
       "      <td>1156.312500</td>\n",
       "    </tr>\n",
       "    <tr>\n",
       "      <th>128</th>\n",
       "      <td>1123.0</td>\n",
       "      <td>2.828427</td>\n",
       "      <td>578.156250</td>\n",
       "    </tr>\n",
       "    <tr>\n",
       "      <th>256</th>\n",
       "      <td>723.0</td>\n",
       "      <td>101.823376</td>\n",
       "      <td>289.078125</td>\n",
       "    </tr>\n",
       "    <tr>\n",
       "      <th>512</th>\n",
       "      <td>518.5</td>\n",
       "      <td>34.648232</td>\n",
       "      <td>144.539062</td>\n",
       "    </tr>\n",
       "  </tbody>\n",
       "</table>\n",
       "</div>"
      ],
      "text/plain": [
       "           seconds       error  optimal_seconds\n",
       "processes                                      \n",
       "4          18501.0  939.037805     18501.000000\n",
       "8           9832.0  210.717821      9250.500000\n",
       "16          5502.5  225.567063      4625.250000\n",
       "32          3089.5   50.204581      2312.625000\n",
       "64          1925.5  296.277741      1156.312500\n",
       "128         1123.0    2.828427       578.156250\n",
       "256          723.0  101.823376       289.078125\n",
       "512          518.5   34.648232       144.539062"
      ]
     },
     "execution_count": 4,
     "metadata": {},
     "output_type": "execute_result"
    }
   ],
   "source": [
    "runtimes = pd.read_csv(res_file)\n",
    "runtimes = runtimes.groupby(\"processes\").agg({\"seconds\": [\"mean\", \"std\"]})\n",
    "runtimes.columns = [\"seconds\", \"error\"]\n",
    "ranks, runtime = runtimes.index[0], runtimes.iloc[0][\"seconds\"]\n",
    "runtimes[\"optimal_seconds\"] = runtime * ranks / runtimes.index\n",
    "runtimes"
   ]
  },
  {
   "cell_type": "code",
   "execution_count": 5,
   "metadata": {},
   "outputs": [
    {
     "data": {
      "image/png": "[encoded data removed]",
      "text/plain": [
       "<Figure size 400x250 with 1 Axes>"
      ]
     },
     "metadata": {},
     "output_type": "display_data"
    }
   ],
   "source": [
    "plt.figure(figsize=(4, 2.5))\n",
    "plt.plot(runtimes.index, runtimes['optimal_seconds'], '--', color='grey', lw=2, label='Ideal')\n",
    "plt.errorbar(runtimes.index, runtimes['seconds'], yerr=runtimes['error'], fmt='-', lw=2, label='Measured')\n",
    "plt.gca().set_xscale('log')\n",
    "plt.gca().set_yscale('log')\n",
    "plt.gca().spines['top'].set_visible(False)\n",
    "plt.gca().spines['right'].set_visible(False)\n",
    "plt.gca().xaxis.set_minor_locator(NullLocator())\n",
    "plt.gca().set_xticks(runtimes.index, labels=runtimes.index)\n",
    "plt.xlabel('CPUs')\n",
    "plt.ylabel('Runtime (s)')\n",
    "plt.title('Strong scaling', fontweight='bold', y=0.9)\n",
    "plt.legend(loc='lower left', frameon=False)\n",
    "plt.tight_layout()\n",
    "plt.savefig(os.path.join(figs_path, 'strong_scaling.png'), dpi=600)\n",
    "plt.savefig(os.path.join(figs_path, 'strong_scaling.svg'), dpi=600)\n",
    "plt.show()"
   ]
  },
  {
   "cell_type": "code",
   "execution_count": null,
   "metadata": {},
   "outputs": [],
   "source": []
  },
  {
   "cell_type": "markdown",
   "metadata": {},
   "source": [
    "## Weak scaling plot\n",
    "\n",
    "The weak scaling benchmark shows how the overall computation time for rewiring a connectome scales with different problem complexities, keeping the number of CPUs fixed. Different network sizes are used for different complexities. This is usually plotted in log-log scale.\n",
    "\n",
    "ℹ️ Set results path below pointing to the location of the benchmark results"
   ]
  },
  {
   "cell_type": "code",
   "execution_count": 6,
   "metadata": {},
   "outputs": [],
   "source": [
    "res_file = '/gpfs/bbp.cscs.ch/data/scratch/proj83/home/pokorny/Zenodo/SSCx-connectome-manipulation-data/benchmarks/runtimes_weak_scaling.csv'"
   ]
  },
  {
   "cell_type": "code",
   "execution_count": 7,
   "metadata": {},
   "outputs": [
    {
     "name": "stdout",
     "output_type": "stream",
     "text": [
      "32 CPUs\n"
     ]
    },
    {
     "data": {
      "text/html": [
       "<div>\n",
       "<style scoped>\n",
       "    .dataframe tbody tr th:only-of-type {\n",
       "        vertical-align: middle;\n",
       "    }\n",
       "\n",
       "    .dataframe tbody tr th {\n",
       "        vertical-align: top;\n",
       "    }\n",
       "\n",
       "    .dataframe thead th {\n",
       "        text-align: right;\n",
       "    }\n",
       "</style>\n",
       "<table border=\"1\" class=\"dataframe\">\n",
       "  <thead>\n",
       "    <tr style=\"text-align: right;\">\n",
       "      <th></th>\n",
       "      <th>seconds</th>\n",
       "      <th>error</th>\n",
       "      <th>optimal_seconds</th>\n",
       "    </tr>\n",
       "    <tr>\n",
       "      <th>fraction</th>\n",
       "      <th></th>\n",
       "      <th></th>\n",
       "      <th></th>\n",
       "    </tr>\n",
       "  </thead>\n",
       "  <tbody>\n",
       "    <tr>\n",
       "      <th>0.125</th>\n",
       "      <td>470.00</td>\n",
       "      <td>93.843842</td>\n",
       "      <td>287.625</td>\n",
       "    </tr>\n",
       "    <tr>\n",
       "      <th>0.250</th>\n",
       "      <td>714.00</td>\n",
       "      <td>330.860494</td>\n",
       "      <td>575.250</td>\n",
       "    </tr>\n",
       "    <tr>\n",
       "      <th>0.500</th>\n",
       "      <td>985.75</td>\n",
       "      <td>295.792016</td>\n",
       "      <td>1150.500</td>\n",
       "    </tr>\n",
       "    <tr>\n",
       "      <th>1.000</th>\n",
       "      <td>2301.00</td>\n",
       "      <td>22.181073</td>\n",
       "      <td>2301.000</td>\n",
       "    </tr>\n",
       "  </tbody>\n",
       "</table>\n",
       "</div>"
      ],
      "text/plain": [
       "          seconds       error  optimal_seconds\n",
       "fraction                                      \n",
       "0.125      470.00   93.843842          287.625\n",
       "0.250      714.00  330.860494          575.250\n",
       "0.500      985.75  295.792016         1150.500\n",
       "1.000     2301.00   22.181073         2301.000"
      ]
     },
     "execution_count": 7,
     "metadata": {},
     "output_type": "execute_result"
    }
   ],
   "source": [
    "runtimes = pd.read_csv(res_file)\n",
    "print(f'{runtimes[\"processes\"].unique()[0]} CPUs')\n",
    "runtimes = runtimes.groupby(\"fraction\").agg({\"seconds\": [\"mean\", \"std\"]})\n",
    "runtimes.columns = [\"seconds\", \"error\"]\n",
    "baseline, runtime = runtimes.index[-1], runtimes.iloc[-1][\"seconds\"]\n",
    "runtimes[\"optimal_seconds\"] = runtime / baseline * runtimes.index\n",
    "runtimes"
   ]
  },
  {
   "cell_type": "code",
   "execution_count": 13,
   "metadata": {},
   "outputs": [
    {
     "data": {
      "image/png": "[encoded data removed]",
      "text/plain": [
       "<Figure size 400x250 with 1 Axes>"
      ]
     },
     "metadata": {},
     "output_type": "display_data"
    }
   ],
   "source": [
    "plt.figure(figsize=(4, 2.5))\n",
    "plt.plot(runtimes.index, runtimes['optimal_seconds'], '--', color='grey', lw=2, label='Ideal')\n",
    "plt.errorbar(runtimes.index, runtimes['seconds'], yerr=runtimes['error'], fmt='-', lw=2, label='Measured')\n",
    "plt.gca().set_xscale('log')\n",
    "plt.gca().set_yscale('log')\n",
    "plt.ylim([100, 3000])\n",
    "plt.gca().spines['top'].set_visible(False)\n",
    "plt.gca().spines['right'].set_visible(False)\n",
    "plt.gca().xaxis.set_minor_locator(NullLocator())\n",
    "plt.gca().set_xticks(runtimes.index, labels=[f'1/{1 / x:.0f}' for x in runtimes.index])\n",
    "plt.xlabel('Network size')\n",
    "plt.ylabel('Runtime (s)')\n",
    "plt.title('Weak scaling', fontweight='bold', y=0.9)\n",
    "plt.legend(loc='lower right', frameon=False)\n",
    "plt.tight_layout()\n",
    "plt.savefig(os.path.join(figs_path, 'weak_scaling.png'), dpi=600)\n",
    "plt.savefig(os.path.join(figs_path, 'weak_scaling.svg'), dpi=600)\n",
    "plt.show()"
   ]
  },
  {
   "cell_type": "code",
   "execution_count": null,
   "metadata": {},
   "outputs": [],
   "source": []
  },
  {
   "cell_type": "markdown",
   "metadata": {},
   "source": [
    "Finally, we will check the size of the nodesets used for this benchmark.\n",
    "\n",
    "ℹ️ Set results path below pointing to the location of the benchmark results"
   ]
  },
  {
   "cell_type": "code",
   "execution_count": 9,
   "metadata": {},
   "outputs": [],
   "source": [
    "nodesets_file = '/gpfs/bbp.cscs.ch/data/scratch/proj83/home/pokorny/Zenodo/SSCx-connectome-manipulation-data/benchmarks/nodesets_weak_scaling.json'"
   ]
  },
  {
   "cell_type": "code",
   "execution_count": 10,
   "metadata": {},
   "outputs": [],
   "source": [
    "with open(nodesets_file, 'r') as f:\n",
    "    nodesets = json.load(f)"
   ]
  },
  {
   "cell_type": "code",
   "execution_count": 11,
   "metadata": {},
   "outputs": [],
   "source": [
    "names_sel = [f'NS{x}' for x in runtimes.index]\n",
    "sizes_sel = [len(nodesets[nm]['node_id']) for nm in names_sel]"
   ]
  },
  {
   "cell_type": "code",
   "execution_count": 12,
   "metadata": {},
   "outputs": [
    {
     "name": "stdout",
     "output_type": "stream",
     "text": [
      "NS1.0: 30190 neurons\n",
      "NS0.5: 15095 neurons\n",
      "NS0.25: 7547 neurons\n",
      "NS0.125: 3773 neurons\n"
     ]
    }
   ],
   "source": [
    "for n, s in list(zip(names_sel, sizes_sel))[::-1]:\n",
    "    print(f'{n}: {s} neurons')"
   ]
  },
  {
   "cell_type": "code",
   "execution_count": null,
   "metadata": {},
   "outputs": [],
   "source": []
  }
 ],
 "metadata": {
  "kernelspec": {
   "display_name": "ReWiringKernel",
   "language": "python",
   "name": "rewiringkernel"
  },
  "language_info": {
   "codemirror_mode": {
    "name": "ipython",
    "version": 3
   },
   "file_extension": ".py",
   "mimetype": "text/x-python",
   "name": "python",
   "nbconvert_exporter": "python",
   "pygments_lexer": "ipython3",
   "version": "3.10.8"
  }
 },
 "nbformat": 4,
 "nbformat_minor": 4
}
