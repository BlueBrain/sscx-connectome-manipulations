{
 "cells": [
  {
   "cell_type": "markdown",
   "metadata": {},
   "source": [
    "```\n",
    "This file is part of sscx-connectome-manipulations.\n",
    "\n",
    "SPDX-License-Identifier: Apache-2.0\n",
    "Copyright (c) 2024 Blue Brain Project/EPFL\n",
    "```"
   ]
  },
  {
   "cell_type": "markdown",
   "metadata": {},
   "source": [
    "# Iterative re-calibration and analysis of simplified SSCx circuits\n",
    "\n",
    "The goal is to iteratively re-calibrate the original and simplified circuits so that their layer-wise spontaneous activity would exhibit _in vivo_-like firing rates. Details on this calibration procedure can be found in [Isbister et al. (2023)](https://doi.org/10.1101/2023.05.17.541168).\n",
    "\n",
    "ℹ️ This notebook is part of the reproduction of the simplified connectomes experiment described in [Pokorny et al. (2024)](https://doi.org/10.1101/2024.05.24.593860)\n",
    "\n",
    "<u>Iterative procedure</u>:\n",
    "1. Simulation step:\n",
    "  - Set up simulation config (based on templates in repo) using the set of OU parameters from the previous calibration iteration;<br>Use initial calibration of the SSCx circuit in the first iteration\n",
    "  - Run 6.5s calibration simulation\n",
    "2. Analysis step:\n",
    "  - Configure .yaml config and run this analysis notebook, which will produce a new calibration .parquet file as well as a new set of OU parameters\n",
    "  - Repeat from step 1. using the new set of OU parameters;<br>Stop after 5 iterations or when firing rates are converged to _in vivo_ reference values\n",
    "\n",
    "<u>Requirements</u>:\n",
    "- [BlueETL](https://github.com/BlueBrain/blueetl) (Python venv)\n",
    "- [CortexETL](https://github.com/BlueBrain/cortexetl) (Cloned repo)\n",
    "- NEURON simulator set up for SSCx simulations (see `README.md`)"
   ]
  },
  {
   "cell_type": "code",
   "execution_count": 1,
   "metadata": {},
   "outputs": [],
   "source": [
    "import os\n",
    "import shutil\n",
    "import matplotlib\n",
    "matplotlib.set_loglevel(\"error\")\n",
    "\n",
    "from missing_input_compensation_param_processor import set_input_compensation_for_desired_frs"
   ]
  },
  {
   "cell_type": "markdown",
   "metadata": {},
   "source": [
    "ℹ️ Set path to cloned CortexETL repository below"
   ]
  },
  {
   "cell_type": "code",
   "execution_count": 2,
   "metadata": {},
   "outputs": [],
   "source": [
    "# Set path to cloned CortexETL repository\n",
    "import sys\n",
    "sys.path.append('/gpfs/bbp.cscs.ch/home/pokorny/JupyterLab/git/cortex_etl')\n",
    "import cortex_etl as c_etl"
   ]
  },
  {
   "cell_type": "code",
   "execution_count": null,
   "metadata": {},
   "outputs": [],
   "source": []
  },
  {
   "cell_type": "markdown",
   "metadata": {},
   "source": [
    "ℹ️ 1. SIMULATION STEP:\n",
    "  - Set up simulation config (from examples, or template config `ou_calibration_cortex_template.tmpl` containing placeholders to be filled in)\n",
    "  - Run 6.5s calibration simulation"
   ]
  },
  {
   "cell_type": "markdown",
   "metadata": {},
   "source": [
    "---\n",
    "AFTER SUCCESSFUL COMPLETION OF SIMULATION\n",
    "\n",
    "---"
   ]
  },
  {
   "cell_type": "markdown",
   "metadata": {},
   "source": [
    "ℹ️ 2. ANALYSIS STEP:\n",
    "- Configure `../configs/connectome_rewiring_calibration_<...>.yaml` accordingly\n",
    "  - \"simulation_campaign\" ... pointing to `config.json` from respective simulation campaign\n",
    "  - \"output\" ... pointing to some output folder to which the analysis results will be written\n",
    "  - \"fr_df_name\" ... Output .parquet file name containing the calibration simulation results\n",
    "  - \"input_conductance_by_neuron_class_parquet\" ... pointing to `input_conductance_by_neuron_class_EI.parquet` (contained in Zenodo dataset)\n",
    "- Run CortexETL analysis using that .yaml config file (all calibration analysis results are also contained in the Zenodo dataset)"
   ]
  },
  {
   "cell_type": "code",
   "execution_count": null,
   "metadata": {},
   "outputs": [],
   "source": [
    "# Run initial analysis\n",
    "\n",
    "ma = c_etl.analysis_initial_processing(\"../configs/connectome_rewiring_calibration_0-0.yaml\")  # Base circuit, iteration 0\n",
    "# ma = c_etl.analysis_initial_processing(\"../configs/connectome_rewiring_calibration_0-1.yaml\")  # Base circuit, iteration 1\n",
    "# ma = c_etl.analysis_initial_processing(\"../configs/connectome_rewiring_calibration_0-2.yaml\")  # Base circuit, iteration 2\n",
    "# ma = c_etl.analysis_initial_processing(\"../configs/connectome_rewiring_calibration_0-3.yaml\")  # Base circuit, iteration 3\n",
    "# ma = c_etl.analysis_initial_processing(\"../configs/connectome_rewiring_calibration_0-4.yaml\")  # Base circuit, iteration 4\n",
    "\n",
    "# ma = c_etl.analysis_initial_processing(\"../configs/connectome_rewiring_calibration_1-0.yaml\")  # Order 1, iteration 0\n",
    "# ma = c_etl.analysis_initial_processing(\"../configs/connectome_rewiring_calibration_1-1.yaml\")  # Order 1, iteration 1\n",
    "# ma = c_etl.analysis_initial_processing(\"../configs/connectome_rewiring_calibration_1-2.yaml\")  # Order 1, iteration 2\n",
    "# ma = c_etl.analysis_initial_processing(\"../configs/connectome_rewiring_calibration_1-3.yaml\")  # Order 1, iteration 3\n",
    "# ma = c_etl.analysis_initial_processing(\"../configs/connectome_rewiring_calibration_1-4.yaml\")  # Order 1, iteration 4\n",
    "\n",
    "# ma = c_etl.analysis_initial_processing(\"../configs/connectome_rewiring_calibration_2-0.yaml\")  # Order 2, iteration 0\n",
    "# ma = c_etl.analysis_initial_processing(\"../configs/connectome_rewiring_calibration_2-1.yaml\")  # Order 2, iteration 1\n",
    "# ma = c_etl.analysis_initial_processing(\"../configs/connectome_rewiring_calibration_2-2.yaml\")  # Order 2, iteration 2\n",
    "# ma = c_etl.analysis_initial_processing(\"../configs/connectome_rewiring_calibration_2-3.yaml\")  # Order 2, iteration 3\n",
    "# ma = c_etl.analysis_initial_processing(\"../configs/connectome_rewiring_calibration_2-4.yaml\")  # Order 2, iteration 4\n",
    "# ma = c_etl.analysis_initial_processing(\"../configs/connectome_rewiring_calibration_2-5.yaml\")  # Order 2, iteration 5\n",
    "# ma = c_etl.analysis_initial_processing(\"../configs/connectome_rewiring_calibration_2-6.yaml\")  # Order 2, iteration 6\n",
    "# ma = c_etl.analysis_initial_processing(\"../configs/connectome_rewiring_calibration_2-7.yaml\")  # Order 2, iteration 7\n",
    "\n",
    "# ma = c_etl.analysis_initial_processing(\"../configs/connectome_rewiring_calibration_3-0.yaml\")  # Order 3, iteration 0\n",
    "# ma = c_etl.analysis_initial_processing(\"../configs/connectome_rewiring_calibration_3-1.yaml\")  # Order 3, iteration 1\n",
    "# ma = c_etl.analysis_initial_processing(\"../configs/connectome_rewiring_calibration_3-2.yaml\")  # Order 3, iteration 2\n",
    "# ma = c_etl.analysis_initial_processing(\"../configs/connectome_rewiring_calibration_3-3.yaml\")  # Order 3, iteration 3\n",
    "# ma = c_etl.analysis_initial_processing(\"../configs/connectome_rewiring_calibration_3-4.yaml\")  # Order 3, iteration 4\n",
    "\n",
    "# ma = c_etl.analysis_initial_processing(\"../configs/connectome_rewiring_calibration_4-0.yaml\")  # Order 4, iteration 0\n",
    "# ma = c_etl.analysis_initial_processing(\"../configs/connectome_rewiring_calibration_4-1.yaml\")  # Order 4, iteration 1\n",
    "# ma = c_etl.analysis_initial_processing(\"../configs/connectome_rewiring_calibration_4-2.yaml\")  # Order 4, iteration 2\n",
    "# ma = c_etl.analysis_initial_processing(\"../configs/connectome_rewiring_calibration_4-3.yaml\")  # Order 4, iteration 3\n",
    "# ma = c_etl.analysis_initial_processing(\"../configs/connectome_rewiring_calibration_4-4.yaml\")  # Order 4, iteration 4\n",
    "\n",
    "# ma = c_etl.analysis_initial_processing(\"../configs/connectome_rewiring_calibration_5-0.yaml\")  # Order 5, iteration 0\n",
    "# ma = c_etl.analysis_initial_processing(\"../configs/connectome_rewiring_calibration_5-1.yaml\")  # Order 5, iteration 1\n",
    "# ma = c_etl.analysis_initial_processing(\"../configs/connectome_rewiring_calibration_5-2.yaml\")  # Order 5, iteration 2\n",
    "# ma = c_etl.analysis_initial_processing(\"../configs/connectome_rewiring_calibration_5-3.yaml\")  # Order 5, iteration 3\n",
    "# ma = c_etl.analysis_initial_processing(\"../configs/connectome_rewiring_calibration_5-4.yaml\")  # Order 5, iteration 4\n",
    "\n",
    "a_hex0 = ma.hex0_spikes"
   ]
  },
  {
   "cell_type": "code",
   "execution_count": null,
   "metadata": {},
   "outputs": [],
   "source": [
    "# Run post-processing\n",
    "c_etl.post_analysis(a_hex0)"
   ]
  },
  {
   "cell_type": "code",
   "execution_count": null,
   "metadata": {},
   "outputs": [],
   "source": [
    "# Generate additional figures\n",
    "c_etl.plot_multi_sim_analysis(a_hex0)"
   ]
  },
  {
   "cell_type": "code",
   "execution_count": null,
   "metadata": {},
   "outputs": [],
   "source": [
    "# Generate spike rasters\n",
    "c_etl.plot_rasters(a_hex0)"
   ]
  },
  {
   "cell_type": "code",
   "execution_count": null,
   "metadata": {},
   "outputs": [],
   "source": [
    "# Generate .parquet data frame\n",
    "c_etl.extract_fr_df(a_hex0)"
   ]
  },
  {
   "cell_type": "code",
   "execution_count": null,
   "metadata": {},
   "outputs": [],
   "source": []
  },
  {
   "cell_type": "markdown",
   "metadata": {},
   "source": [
    "After successful completion:\n",
    "- Calculate new OU parameters from calibration simulation results\n",
    "\n",
    "ℹ️ Optionally: Set path manually pointing to an existing .parquet file (all calibration .parquet files are also contained in the Zenodo dataset)\n",
    "\n",
    "ℹ️ For initial calibration: `concatented_mgfix_connection_data_15-11-22.parquet`"
   ]
  },
  {
   "cell_type": "code",
   "execution_count": 40,
   "metadata": {},
   "outputs": [
    {
     "name": "stdout",
     "output_type": "stream",
     "text": [
      "Calibration file:\n",
      "  /gpfs/bbp.cscs.ch/data/scratch/proj83/home/pokorny/Zenodo/SSCx-connectome-manipulation-data/simplified_connectomes/calibration/order0_connection_data_from_first_iteration.parquet\n"
     ]
    }
   ],
   "source": [
    "# Calibration file from analysis\n",
    "# calib_file = os.path.join(a_hex0.figpaths.root, a_hex0.analysis_config.custom[\"fr_df_name\"])\n",
    "\n",
    "# OR: Set path manually\n",
    "# calib_file = '/gpfs/bbp.cscs.ch/data/scratch/proj83/home/pokorny/Zenodo/SSCx-connectome-manipulation-data/simplified_connectomes/calibration/concatented_mgfix_connection_data_15-11-22.parquet'  # Initial calibration\n",
    "calib_file = '/gpfs/bbp.cscs.ch/data/scratch/proj83/home/pokorny/Zenodo/SSCx-connectome-manipulation-data/simplified_connectomes/calibration/order0_connection_data_from_first_iteration.parquet'\n",
    "\n",
    "print(f\"Calibration file:\\n  {calib_file}\")"
   ]
  },
  {
   "cell_type": "code",
   "execution_count": null,
   "metadata": {},
   "outputs": [],
   "source": []
  },
  {
   "cell_type": "code",
   "execution_count": 41,
   "metadata": {},
   "outputs": [],
   "source": [
    "# Configure parameters\n",
    "param_dict = dict(\n",
    "    path=None,  # Not used\n",
    "    ca=1.05,  # Calcium level\n",
    "    depol_stdev_mean_ratio=0.4,  # OU std-to-mean ratio\n",
    "    desired_connected_proportion_of_invivo_frs=0.1,  # In vivo firing rate proportion (0.1, 0.2, 0.3, 0.4, 0.5, 0.6, 0.7, 0.8, 0.9, 1.0)\n",
    "    data_for_unconnected_fit_name=\"/gpfs/bbp.cscs.ch/data/scratch/proj83/home/pokorny/Zenodo/SSCx-connectome-manipulation-data/simplified_connectomes/calibration/unconnected_frs_including_interneurons_16-8-23.parquet\",  # From Zenodo dataset\n",
    "    data_for_connected_adjustment_fit_name=calib_file,  # Results from calibration simulation\n",
    "    in_vivo_reference_frs={\"L1I\": 1.500, \"L23E\": 0.070, \"L23I\": 0.961, \"L4E\": 0.619, \"L4I\": 1.184, \"L5E\": 1.252, \"L5I\": 2.357, \"L6E\": 0.470, \"L6I\": 1.500},  # In vivo reference values\n",
    "    unconnected_connected_fr_adjustment_fit_method='exponential',\n",
    ")\n",
    "\n",
    "OU_params = set_input_compensation_for_desired_frs(**param_dict)"
   ]
  },
  {
   "cell_type": "code",
   "execution_count": 42,
   "metadata": {},
   "outputs": [
    {
     "name": "stdout",
     "output_type": "stream",
     "text": [
      "'desired_connected_fr_L1I': 0.15000000000000002\n",
      "'desired_connected_fr_L23E': 0.007000000000000001\n",
      "'desired_connected_fr_L23I': 0.0961\n",
      "'desired_connected_fr_L4E': 0.061900000000000004\n",
      "'desired_connected_fr_L4I': 0.1184\n",
      "'desired_connected_fr_L5E': 0.1252\n",
      "'desired_connected_fr_L5I': 0.23570000000000002\n",
      "'desired_connected_fr_L6E': 0.047\n",
      "'desired_connected_fr_L6I': 0.15000000000000002\n",
      "'desired_unconnected_fr_L1I': 0.11652877831849781\n",
      "'desired_unconnected_fr_L23E': 0.005177978795393896\n",
      "'desired_unconnected_fr_L23I': 0.0\n",
      "'desired_unconnected_fr_L4E': 0.06506908191814859\n",
      "'desired_unconnected_fr_L4I': 0.0008319794918819692\n",
      "'desired_unconnected_fr_L5E': 0.09465430305191047\n",
      "'desired_unconnected_fr_L5I': 0.20816922308205818\n",
      "'desired_unconnected_fr_L6E': 0.03648629213332706\n",
      "'desired_unconnected_fr_L6I': 0.088673502138236\n",
      "'ornstein_uhlenbeck_mean_pct_L1I': 1.301\n",
      "'ornstein_uhlenbeck_mean_pct_L23E': 17.417\n",
      "'ornstein_uhlenbeck_mean_pct_L23I': 0.1\n",
      "'ornstein_uhlenbeck_mean_pct_L4E': 8.208\n",
      "'ornstein_uhlenbeck_mean_pct_L4I': 0.1\n",
      "'ornstein_uhlenbeck_mean_pct_L5E': 15.015\n",
      "'ornstein_uhlenbeck_mean_pct_L5I': 1.902\n",
      "'ornstein_uhlenbeck_mean_pct_L6E': 1.902\n",
      "'ornstein_uhlenbeck_mean_pct_L6I': 0.1\n",
      "'ornstein_uhlenbeck_sd_pct_L1I': 0.521\n",
      "'ornstein_uhlenbeck_sd_pct_L23E': 6.967\n",
      "'ornstein_uhlenbeck_sd_pct_L23I': 0.04\n",
      "'ornstein_uhlenbeck_sd_pct_L4E': 3.283\n",
      "'ornstein_uhlenbeck_sd_pct_L4I': 0.04\n",
      "'ornstein_uhlenbeck_sd_pct_L5E': 6.006\n",
      "'ornstein_uhlenbeck_sd_pct_L5I': 0.761\n",
      "'ornstein_uhlenbeck_sd_pct_L6E': 0.761\n",
      "'ornstein_uhlenbeck_sd_pct_L6I': 0.04\n"
     ]
    }
   ],
   "source": [
    "# New OU parameters to be used in simulation config for next iteration\n",
    "for k in sorted(OU_params.keys()):\n",
    "    print(f\"'{k}': {OU_params[k]}\")"
   ]
  },
  {
   "cell_type": "markdown",
   "metadata": {},
   "source": [
    "---\n",
    "STOP HERE OR RE-ITERATE FROM 1. SIMULATION STEP\n",
    "\n",
    "---"
   ]
  },
  {
   "cell_type": "code",
   "execution_count": null,
   "metadata": {},
   "outputs": [],
   "source": []
  }
 ],
 "metadata": {
  "kernelspec": {
   "display_name": "CortexETLKernel",
   "language": "python",
   "name": "cortexetlkernel"
  },
  "language_info": {
   "codemirror_mode": {
    "name": "ipython",
    "version": 3
   },
   "file_extension": ".py",
   "mimetype": "text/x-python",
   "name": "python",
   "nbconvert_exporter": "python",
   "pygments_lexer": "ipython3",
   "version": "3.10.8"
  }
 },
 "nbformat": 4,
 "nbformat_minor": 4
}
