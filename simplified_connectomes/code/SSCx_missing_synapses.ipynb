{
 "cells": [
  {
   "cell_type": "raw",
   "metadata": {},
   "source": [
    "This file is part of sscx-connectome-manipulations.\n",
    "\n",
    "SPDX-License-Identifier: Apache-2.0\n",
    "Copyright (c) 2024 Blue Brain Project/EPFL"
   ]
  },
  {
   "cell_type": "markdown",
   "metadata": {},
   "source": [
    "# Estimation of missing synapses per layer in simplified SSCx connectomes\n",
    "\n",
    "- Computation of average dendritic synapse densities per layer (in #synapses/um)\n",
    "- Based on a given reference density, estimation of missing numbers of synapses per layer, i.e., attributed to incoming connections from external regions that are outside this network model\n",
    "\n",
    "ℹ️ Part of reproduction of simplified connectomes experiment described in [Pokorny et al. (2024)](https://doi.org/10.1101/2024.05.24.593860)\n",
    "\n",
    "<u>Requirements</u>:\n",
    "- Python venv with [Blue Brain SNAP](https://github.com/BlueBrain/snap) and [NeuroM](https://github.com/BlueBrain/NeuroM)\n",
    "- [SSCx network model](https://doi.org/10.5281/zenodo.8026353) (=original circuit)\n",
    "- Rewired (simplified) circuits, see `SSCx_rewiring.ipynb` (also available in Zenodo dataset)"
   ]
  },
  {
   "cell_type": "code",
   "execution_count": 1,
   "metadata": {},
   "outputs": [],
   "source": [
    "import os\n",
    "import numpy as np\n",
    "import pandas as pd\n",
    "import matplotlib.pyplot as plt\n",
    "\n",
    "from bluepysnap import Circuit"
   ]
  },
  {
   "cell_type": "code",
   "execution_count": null,
   "metadata": {},
   "outputs": [],
   "source": []
  },
  {
   "cell_type": "markdown",
   "metadata": {},
   "source": [
    "## Run synapse count/density estimation\n",
    "\n",
    "- Using SONATA lauch script [run_dendritic_synapse_density_SONATA.sh](https://bbpgitlab.epfl.ch/conn/structural/dendritic_synapse_density/-/blob/master/bin/run_dendritic_synapse_density_SONATA.sh)"
   ]
  },
  {
   "cell_type": "code",
   "execution_count": 17,
   "metadata": {},
   "outputs": [],
   "source": [
    "def print_launch_command(circuit_config, nodes_popul_name, circuit_target, N_parallel, N_splits, save_file):\n",
    "    print(f'sbatch run_dendritic_synapse_density_SONATA.sh {circuit_config} {nodes_popul_name} {circuit_target} {N_parallel} {N_splits} {save_file}')\n",
    "    print()"
   ]
  },
  {
   "cell_type": "code",
   "execution_count": 3,
   "metadata": {},
   "outputs": [],
   "source": [
    "circuit_target = 'hex0'\n",
    "nodes_popul = 'S1nonbarrel_neurons'\n",
    "N_parallel = 100  # Number of parallel jobs\n",
    "N_splits = 100  # Number of data splits"
   ]
  },
  {
   "cell_type": "markdown",
   "metadata": {},
   "source": [
    "ℹ️ Set paths to original and rewired circuit configs below"
   ]
  },
  {
   "cell_type": "code",
   "execution_count": 9,
   "metadata": {},
   "outputs": [],
   "source": [
    "circuit_name_base = 'SSCx-HexO1-Release'\n",
    "\n",
    "order_list = [1, 2, 3, 4, 5]\n",
    "circuit_names = ['Orig'] + [f'Order-{_ord}' for _ord in order_list]\n",
    "circuit_configs = ['/gpfs/bbp.cscs.ch/project/proj83/jira-tickets/NSETM-1948-extract-hex-O1/data/O1_data/circuit_config.json'] + \\\n",
    "                  [f'/gpfs/bbp.cscs.ch/data/scratch/proj83/home/pokorny/Zenodo/SSCx-connectome-manipulation-data/simplified_connectomes/circuits/{circuit_name_base}__ConnRewireOrder{_ord}Hex0EE/circuit_config.json' for _ord in order_list]"
   ]
  },
  {
   "cell_type": "markdown",
   "metadata": {},
   "source": [
    "ℹ️ Set output path below"
   ]
  },
  {
   "cell_type": "code",
   "execution_count": 11,
   "metadata": {},
   "outputs": [],
   "source": [
    "output_path = '/gpfs/bbp.cscs.ch/data/scratch/proj83/home/pokorny/Zenodo/SSCx-connectome-manipulation-data/simplified_connectomes/missing_synapses'\n",
    "if not os.path.exists(output_path):\n",
    "    os.makedirs(output_path)"
   ]
  },
  {
   "cell_type": "markdown",
   "metadata": {},
   "source": [
    "ℹ️ Configure the SLURM script `run_dendritic_synapse_density_SONATA.sh` according to the used computation system and run below LAUNCH COMMANDS for running synapse density estimations\n",
    "\n",
    "ℹ️ All missing synapse estimation results are also contained in the Zenodo dataset"
   ]
  },
  {
   "cell_type": "code",
   "execution_count": 18,
   "metadata": {},
   "outputs": [
    {
     "name": "stdout",
     "output_type": "stream",
     "text": [
      "### LAUNCH COMMAND \"Orig\" ###\n",
      "sbatch run_dendritic_synapse_density_SONATA.sh /gpfs/bbp.cscs.ch/project/proj83/jira-tickets/NSETM-1948-extract-hex-O1/data/O1_data/circuit_config.json S1nonbarrel_neurons hex0 100 100 /gpfs/bbp.cscs.ch/data/scratch/proj83/home/pokorny/Zenodo/SSCx-connectome-manipulation-data/simplified_connectomes/missing_synapses/Orig_cell_table_S1nonbarrel_neurons_hex0.h5\n",
      "\n",
      "### LAUNCH COMMAND \"Order-1\" ###\n",
      "sbatch run_dendritic_synapse_density_SONATA.sh /gpfs/bbp.cscs.ch/data/scratch/proj83/home/pokorny/Zenodo/SSCx-connectome-manipulation-data/simplified_connectomes/circuits/SSCx-HexO1-Release__ConnRewireOrder1Hex0EE/circuit_config.json S1nonbarrel_neurons hex0 100 100 /gpfs/bbp.cscs.ch/data/scratch/proj83/home/pokorny/Zenodo/SSCx-connectome-manipulation-data/simplified_connectomes/missing_synapses/Order-1_cell_table_S1nonbarrel_neurons_hex0.h5\n",
      "\n",
      "### LAUNCH COMMAND \"Order-2\" ###\n",
      "sbatch run_dendritic_synapse_density_SONATA.sh /gpfs/bbp.cscs.ch/data/scratch/proj83/home/pokorny/Zenodo/SSCx-connectome-manipulation-data/simplified_connectomes/circuits/SSCx-HexO1-Release__ConnRewireOrder2Hex0EE/circuit_config.json S1nonbarrel_neurons hex0 100 100 /gpfs/bbp.cscs.ch/data/scratch/proj83/home/pokorny/Zenodo/SSCx-connectome-manipulation-data/simplified_connectomes/missing_synapses/Order-2_cell_table_S1nonbarrel_neurons_hex0.h5\n",
      "\n",
      "### LAUNCH COMMAND \"Order-3\" ###\n",
      "sbatch run_dendritic_synapse_density_SONATA.sh /gpfs/bbp.cscs.ch/data/scratch/proj83/home/pokorny/Zenodo/SSCx-connectome-manipulation-data/simplified_connectomes/circuits/SSCx-HexO1-Release__ConnRewireOrder3Hex0EE/circuit_config.json S1nonbarrel_neurons hex0 100 100 /gpfs/bbp.cscs.ch/data/scratch/proj83/home/pokorny/Zenodo/SSCx-connectome-manipulation-data/simplified_connectomes/missing_synapses/Order-3_cell_table_S1nonbarrel_neurons_hex0.h5\n",
      "\n",
      "### LAUNCH COMMAND \"Order-4\" ###\n",
      "sbatch run_dendritic_synapse_density_SONATA.sh /gpfs/bbp.cscs.ch/data/scratch/proj83/home/pokorny/Zenodo/SSCx-connectome-manipulation-data/simplified_connectomes/circuits/SSCx-HexO1-Release__ConnRewireOrder4Hex0EE/circuit_config.json S1nonbarrel_neurons hex0 100 100 /gpfs/bbp.cscs.ch/data/scratch/proj83/home/pokorny/Zenodo/SSCx-connectome-manipulation-data/simplified_connectomes/missing_synapses/Order-4_cell_table_S1nonbarrel_neurons_hex0.h5\n",
      "\n",
      "### LAUNCH COMMAND \"Order-5\" ###\n",
      "sbatch run_dendritic_synapse_density_SONATA.sh /gpfs/bbp.cscs.ch/data/scratch/proj83/home/pokorny/Zenodo/SSCx-connectome-manipulation-data/simplified_connectomes/circuits/SSCx-HexO1-Release__ConnRewireOrder5Hex0EE/circuit_config.json S1nonbarrel_neurons hex0 100 100 /gpfs/bbp.cscs.ch/data/scratch/proj83/home/pokorny/Zenodo/SSCx-connectome-manipulation-data/simplified_connectomes/missing_synapses/Order-5_cell_table_S1nonbarrel_neurons_hex0.h5\n",
      "\n"
     ]
    }
   ],
   "source": [
    "for _nm, _cfg in zip(circuit_names, circuit_configs):\n",
    "    print(f'### LAUNCH COMMAND \"{_nm}\" ###')\n",
    "    save_file = os.path.join(output_path, f'{_nm}_cell_table_{nodes_popul}_{circuit_target}.h5')\n",
    "    print_launch_command(_cfg, nodes_popul, circuit_target, N_parallel, N_splits, save_file)"
   ]
  },
  {
   "cell_type": "code",
   "execution_count": null,
   "metadata": {},
   "outputs": [],
   "source": []
  },
  {
   "cell_type": "markdown",
   "metadata": {},
   "source": [
    "---\n",
    "WAIT UNTIL ALL ESTIMATION RUNS HAVE SUCCESSFULLY COMPLETED\n",
    "\n",
    "---"
   ]
  },
  {
   "cell_type": "code",
   "execution_count": null,
   "metadata": {},
   "outputs": [],
   "source": []
  },
  {
   "cell_type": "markdown",
   "metadata": {},
   "source": [
    "## Estimate and visualize missing synapses\n",
    "\n",
    "- Missing EXC synapses per synapse class & layer\n",
    "- Local connectivity\n",
    "- Reference density of 1.1 # syn/um (Markram et al. 2015)\n",
    "\n",
    "ℹ️ Set path below pointing to output table path and density estimation results"
   ]
  },
  {
   "cell_type": "code",
   "execution_count": 47,
   "metadata": {},
   "outputs": [],
   "source": [
    "# Summary table will be stored here\n",
    "tab_path = '/gpfs/bbp.cscs.ch/data/scratch/proj83/home/pokorny/Zenodo/SSCx-connectome-manipulation-data/simplified_connectomes/missing_synapses'\n",
    "\n",
    "# Results files from estimation runs\n",
    "tab_names = ['Orig'] + [f'Order-{_ord}' for _ord in order_list]\n",
    "tab_files = ['Orig_cell_table_S1nonbarrel_neurons_hex0__20240205_104244.h5',\n",
    "             'Order-1_cell_table_S1nonbarrel_neurons_hex0__20240205_104240.h5',\n",
    "             'Order-2_cell_table_S1nonbarrel_neurons_hex0__20240205_104313.h5',\n",
    "             'Order-3_cell_table_S1nonbarrel_neurons_hex0__20240205_104325.h5',\n",
    "             'Order-4_cell_table_S1nonbarrel_neurons_hex0__20240205_104334.h5',\n",
    "             'Order-5_cell_table_S1nonbarrel_neurons_hex0__20240205_104341.h5']"
   ]
  },
  {
   "cell_type": "code",
   "execution_count": 20,
   "metadata": {},
   "outputs": [],
   "source": [
    "# Load tables\n",
    "cell_tables = [pd.read_hdf(os.path.join(tab_path, _fn)) for _fn in tab_files]\n",
    "\n",
    "# Check that differences only in E counts\n",
    "for _idx in range(1, len(cell_tables)):\n",
    "    assert cell_tables[0]['total_dendrite_length'].equals(cell_tables[_idx]['total_dendrite_length'])\n",
    "    assert cell_tables[0]['S1nonbarrel_neurons__S1nonbarrel_neurons__chemical__I_count'].equals(cell_tables[_idx]['S1nonbarrel_neurons__S1nonbarrel_neurons__chemical__I_count'])\n",
    "    assert not cell_tables[0]['S1nonbarrel_neurons__S1nonbarrel_neurons__chemical__E_count'].equals(cell_tables[_idx]['S1nonbarrel_neurons__S1nonbarrel_neurons__chemical__E_count'])"
   ]
  },
  {
   "cell_type": "code",
   "execution_count": 23,
   "metadata": {},
   "outputs": [],
   "source": [
    "# Add total counts & densities\n",
    "# [Here, one could sum counts from incoming VPM/POm projections, etc.\n",
    "#  But we only consider local connectivity here.]\n",
    "sum_columns = {'total_E_syn_count': ['S1nonbarrel_neurons__S1nonbarrel_neurons__chemical__E_count'],\n",
    "               'total_E_syn_density': ['S1nonbarrel_neurons__S1nonbarrel_neurons__chemical__E_density'],\n",
    "               'total_I_syn_count': ['S1nonbarrel_neurons__S1nonbarrel_neurons__chemical__I_count'],\n",
    "               'total_I_syn_density': ['S1nonbarrel_neurons__S1nonbarrel_neurons__chemical__I_density']}\n",
    "for _tab in cell_tables:\n",
    "    for (k, v) in sum_columns.items():\n",
    "        _tab.insert(column=k, value=np.sum(_tab[v], 1), loc=_tab.shape[1])"
   ]
  },
  {
   "cell_type": "code",
   "execution_count": 24,
   "metadata": {},
   "outputs": [],
   "source": [
    "# Load base circuit\n",
    "c = Circuit(circuit_configs[0])\n",
    "nodes = c.nodes[nodes_popul]\n",
    "nodes_table = nodes.get(circuit_target, properties=['synapse_class', 'layer', 'mtype'])\n",
    "\n",
    "for _idx in range(len(cell_tables)):\n",
    "    assert nodes_table.index.equals(cell_tables[_idx].index)"
   ]
  },
  {
   "cell_type": "code",
   "execution_count": 25,
   "metadata": {},
   "outputs": [
    {
     "data": {
      "image/png": "[encoded data removed]",
      "text/plain": [
       "<Figure size 600x200 with 2 Axes>"
      ]
     },
     "metadata": {},
     "output_type": "display_data"
    }
   ],
   "source": [
    "# Visualize histograms (local density only)\n",
    "bins = np.linspace(0.0, 1.0, 201)\n",
    "cell_classes = ['EXC', 'INH']\n",
    "plt.figure(figsize=(6, 2))\n",
    "for _cidx, _class in enumerate(cell_classes):\n",
    "    plt.subplot(1, 2, _cidx + 1)\n",
    "    cell_sel = nodes_table['synapse_class'] == _class\n",
    "    for _tidx in range(len(cell_tables)):\n",
    "        plt.hist(cell_tables[_tidx][cell_sel]['total_E_syn_density'], bins=bins, histtype='step' if _tidx else 'bar', label=tab_names[_tidx])\n",
    "    plt.title(f'{_class} cells', fontweight='bold')\n",
    "    # plt.gca().set_yscale('log')\n",
    "    plt.xlabel('Local EXC density (#syn/um)')\n",
    "    plt.ylabel('Cell count')\n",
    "plt.legend(frameon=False, fontsize=8)\n",
    "plt.tight_layout()\n",
    "plt.show()"
   ]
  },
  {
   "cell_type": "code",
   "execution_count": 78,
   "metadata": {},
   "outputs": [],
   "source": []
  },
  {
   "cell_type": "code",
   "execution_count": 26,
   "metadata": {},
   "outputs": [],
   "source": [
    "# Commpute missing synapses\n",
    "ref_density = 1.1 # syn/um [Markram et al. 2015]\n",
    "\n",
    "for _tab in cell_tables:\n",
    "    _tab.insert(column='total_E_syn_density_missing', value=ref_density - _tab['total_E_syn_density'], loc=_tab.shape[1])\n",
    "    _tab.insert(column='total_E_syn_count_missing', value=np.round(_tab['total_E_syn_density_missing'] * _tab['total_dendrite_length']).astype(int), loc=_tab.shape[1])"
   ]
  },
  {
   "cell_type": "code",
   "execution_count": 28,
   "metadata": {},
   "outputs": [],
   "source": [
    "# Compute missing (local) EXC synapses per layer and store them as missing_counts.h5 file\n",
    "lay_groups = {'L1': [1], 'L23': [2, 3], 'L4': [4], 'L5': [5], 'L6': [6]}\n",
    "missing_counts_mean = []\n",
    "missing_counts_std = []\n",
    "for _tab in cell_tables:\n",
    "    mcounts_mean = {}\n",
    "    mcounts_std = {}\n",
    "    for _class in ['EXC', 'INH']:\n",
    "        for _k, _v in lay_groups.items():\n",
    "            cell_sel = np.logical_and(nodes_table['synapse_class'] == _class, np.isin(nodes_table['layer'], _v))\n",
    "            mcounts = _tab[cell_sel]['total_E_syn_count_missing']\n",
    "            mcounts_mean[_k + _class[0]] = np.mean(mcounts)\n",
    "            mcounts_std[_k + _class[0]] = np.std(mcounts)\n",
    "    missing_counts_mean.append(mcounts_mean)\n",
    "    missing_counts_std.append(mcounts_std)\n",
    "\n",
    "df_missing_counts_mean = pd.DataFrame(missing_counts_mean, index=tab_names)\n",
    "df_missing_counts_std = pd.DataFrame(missing_counts_std, index=tab_names)\n",
    "df_file = os.path.join(tab_path, 'missing_counts.h5')\n",
    "df_missing_counts_mean.to_hdf(df_file, 'missing_counts_mean')\n",
    "df_missing_counts_std.to_hdf(df_file, 'missing_counts_std')"
   ]
  },
  {
   "cell_type": "code",
   "execution_count": 29,
   "metadata": {},
   "outputs": [
    {
     "data": {
      "image/png": "[encoded data removed]",
      "text/plain": [
       "<Figure size 900x300 with 2 Axes>"
      ]
     },
     "metadata": {},
     "output_type": "display_data"
    }
   ],
   "source": [
    "# Visualization of missing synapses\n",
    "layers = list(lay_groups.keys())\n",
    "\n",
    "fig = plt.figure(figsize=(9, 3))\n",
    "plt.subplot(1, 2, 1)\n",
    "for midx, mname in enumerate(tab_names):\n",
    "    syn_count_E_mean = df_missing_counts_mean.loc[mname, [_k + 'E' for _k in layers]]\n",
    "    syn_count_E_std = df_missing_counts_std.loc[mname, [_k + 'E' for _k in layers]]\n",
    "    if midx == 0:\n",
    "        plt.barh(layers, syn_count_E_mean, color='k', alpha=0.25)\n",
    "    plt.errorbar(syn_count_E_mean, np.arange(len(syn_count_E_mean)) + midx / len(tab_names) - 0.4, xerr=syn_count_E_std, fmt='.', label=mname)\n",
    "plt.title('EXC cells', fontweight='bold')\n",
    "plt.xlabel('#Missing EXC synapses')\n",
    "plt.ylim((-0.5, len(layers) - 0.5))\n",
    "plt.gca().invert_yaxis()\n",
    "plt.legend(frameon=False, fontsize=8, loc='upper right')\n",
    "\n",
    "plt.subplot(1, 2, 2)\n",
    "for midx, mname in enumerate(tab_names):\n",
    "    syn_count_I_mean = df_missing_counts_mean.loc[mname, [_k + 'I' for _k in layers]]\n",
    "    syn_count_I_std = df_missing_counts_std.loc[mname, [_k + 'I' for _k in layers]]\n",
    "    if midx == 0:\n",
    "        plt.barh(layers, syn_count_I_mean, color='k', alpha=0.25)\n",
    "    plt.errorbar(syn_count_I_mean, np.arange(len(syn_count_I_mean)) + midx / len(tab_names) - 0.4, xerr=syn_count_I_std, fmt='.', label=mname)\n",
    "plt.title('INH cells', fontweight='bold')\n",
    "plt.xlabel('#Missing EXC synapses')\n",
    "plt.ylim((-1, len(layers)))\n",
    "plt.gca().invert_yaxis()\n",
    "\n",
    "plt.tight_layout()\n",
    "plt.show()"
   ]
  },
  {
   "cell_type": "code",
   "execution_count": null,
   "metadata": {},
   "outputs": [],
   "source": []
  }
 ],
 "metadata": {
  "kernelspec": {
   "display_name": "ReWiringKernel",
   "language": "python",
   "name": "rewiringkernel"
  },
  "language_info": {
   "codemirror_mode": {
    "name": "ipython",
    "version": 3
   },
   "file_extension": ".py",
   "mimetype": "text/x-python",
   "name": "python",
   "nbconvert_exporter": "python",
   "pygments_lexer": "ipython3",
   "version": "3.10.8"
  }
 },
 "nbformat": 4,
 "nbformat_minor": 4
}
