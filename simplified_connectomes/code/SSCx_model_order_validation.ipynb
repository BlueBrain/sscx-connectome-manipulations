{
 "cells": [
  {
   "cell_type": "markdown",
   "metadata": {},
   "source": [
    "```\n",
    "This file is part of sscx-connectome-manipulations.\n",
    "\n",
    "SPDX-License-Identifier: Apache-2.0\n",
    "Copyright (c) 2024 Blue Brain Project/EPFL\n",
    "```"
   ]
  },
  {
   "cell_type": "markdown",
   "metadata": {},
   "source": [
    "# SSCx model order validation\n",
    "- Fit stochastic 1st-5th order probability models against the five (simplified) rewired connectomes\n",
    "- Compare them to the respective stochastic probability models fitted against the original connectomes\n",
    "\n",
    "ℹ️ Part of reproduction of simplified connectomes experiment described in [Pokorny et al. (2024)](https://doi.org/10.1101/2024.05.24.593860)\n",
    "\n",
    "<u>Requirements</u>:\n",
    "- [Connectome-Manipulator](https://github.com/BlueBrain/connectome-manipulator) (Python venv)\n",
    "- [SSCx network model](https://doi.org/10.5281/zenodo.8026353) (=original circuit)\n",
    "- Rewired (simplified) circuits, see `SSCx_rewiring.ipynb` (also available in Zenodo dataset)"
   ]
  },
  {
   "cell_type": "code",
   "execution_count": 1,
   "metadata": {},
   "outputs": [],
   "source": [
    "# Initialization\n",
    "import json\n",
    "import os\n",
    "import matplotlib.pyplot as plt\n",
    "import numpy as np\n",
    "import pickle\n",
    "from bluepysnap import Circuit\n",
    "from connectome_manipulator.model_building import model_building, model_types"
   ]
  },
  {
   "cell_type": "markdown",
   "metadata": {},
   "source": [
    "ℹ️ Set paths below pointing to the original as well as rewired (simplified) circuits"
   ]
  },
  {
   "cell_type": "code",
   "execution_count": 3,
   "metadata": {},
   "outputs": [],
   "source": [
    "# Circuit base name\n",
    "circuit_name_base = 'SSCx-HexO1-Release'\n",
    "circuit_config = '/gpfs/bbp.cscs.ch/project/proj83/jira-tickets/NSETM-1948-extract-hex-O1/data/O1_data/circuit_config.json'  # Released 210K nbS1 (SSCx HexO1) physiology circuit from [Isbister et al. 2023]\n",
    "\n",
    "# Simplified circuits\n",
    "order_list = [1, 2, 3, 4, 5]\n",
    "circuit_names_manip = [f'{circuit_name_base}__ConnRewireOrder{_ord}Hex0EE' for _ord in order_list]\n",
    "circuit_configs_manip = [f'/gpfs/bbp.cscs.ch/data/scratch/proj83/home/pokorny/Zenodo/SSCx-connectome-manipulation-data/simplified_connectomes/circuits/{_nm}/circuit_config.json' for _nm in circuit_names_manip]\n",
    "circuit_specs_manip = [{'name': _nm, 'config': _cfg} for _nm, _cfg in zip(circuit_names_manip, circuit_configs_manip)]"
   ]
  },
  {
   "cell_type": "code",
   "execution_count": 4,
   "metadata": {},
   "outputs": [],
   "source": [
    "def export_model_config(model_config, circuit_name, config_path, print_cmd=True):\n",
    "    \"\"\"Writes model config to .json config file(s).\"\"\"\n",
    "    if not isinstance(config_path, list):\n",
    "        config_path = [config_path]\n",
    "\n",
    "    fn = f'model_config__{model_config[\"model\"][\"name\"]}__{circuit_name}.json'\n",
    "    for cpath in config_path:\n",
    "        if not os.path.exists(cpath):\n",
    "            os.makedirs(cpath)\n",
    "        with open(os.path.join(cpath, fn), 'w') as f:\n",
    "            json.dump(model_config, f, indent=2)\n",
    "        # print(f\"Config file {fn} written to {cpath}\")\n",
    "    # print(json.dumps(model_config, indent=2))\n",
    "\n",
    "    if print_cmd:\n",
    "        # print()\n",
    "        print_launch_cmd(cpath, fn)\n",
    "\n",
    "def print_launch_cmd(config_path, config_fn):\n",
    "    run_cmd = f\"sbatch run_model_building.sh {config_fn} --force-reextract --force-rebuild\"\n",
    "    # print(f\"# LAUNCH COMMAND [CHECK ALLOCATION TIME!!]:\")\n",
    "    # print(f\"cd {config_path}\")\n",
    "    print(run_cmd)"
   ]
  },
  {
   "cell_type": "markdown",
   "metadata": {},
   "source": [
    "ℹ️ Set config and output paths below"
   ]
  },
  {
   "cell_type": "code",
   "execution_count": 5,
   "metadata": {},
   "outputs": [],
   "source": [
    "# Model building configuration\n",
    "output_path = '/gpfs/bbp.cscs.ch/data/scratch/proj83/home/pokorny/Zenodo/SSCx-connectome-manipulation-data/simplified_connectomes/model_validation/'\n",
    "config_path = '../validation_configs'  # Must exist!"
   ]
  },
  {
   "cell_type": "code",
   "execution_count": null,
   "metadata": {},
   "outputs": [],
   "source": []
  },
  {
   "cell_type": "markdown",
   "metadata": {},
   "source": [
    "### Prepare & launch validation model building\n",
    "\n",
    "- Load original model fitting configs\n",
    "- Writes .json config file for re-extracting same model fits from all five simplified connectomes using `sbatch`\n",
    "\n",
    "ℹ️ Set model config path below\n",
    "\n",
    "ℹ️ Configure the SLURM script `run_model_building.sh` according to the used computation system and run below LAUNCH COMMANDS for generating the model fits\n",
    "\n",
    "ℹ️ All validation model fits are also contained in the Zenodo dataset"
   ]
  },
  {
   "cell_type": "code",
   "execution_count": 8,
   "metadata": {},
   "outputs": [],
   "source": [
    "model_config_path = '../configs'\n",
    "model_configs = ['model_config__ConnProb1stOrder-SSCxO1-Hex0EE.json',\n",
    "                 'model_config__ConnProb2ndOrderComplex-SSCxO1-Hex0EE.json',\n",
    "                 'model_config__ConnProb3rdOrderComplex-SSCxO1-Hex0EE.json',\n",
    "                 'model_config__ConnProb4thOrder-SSCxO1-Hex0EE.json',\n",
    "                 'model_config__ConnProb5thOrder-SSCxO1-Hex0EE.json']"
   ]
  },
  {
   "cell_type": "code",
   "execution_count": 9,
   "metadata": {},
   "outputs": [
    {
     "name": "stdout",
     "output_type": "stream",
     "text": [
      "# LAUNCH COMMANDS:\n",
      "cd ../validation_configs\n",
      "\n",
      "# MODEL ConnProb1stOrder-SSCxO1-Hex0EE [CHECK ALLOCATION TIME!!]\n",
      "sbatch run_model_building.sh model_config__ConnProb1stOrder-SSCxO1-Hex0EE__ConnRewireOrder1Hex0EE.json --force-reextract --force-rebuild\n",
      "sbatch run_model_building.sh model_config__ConnProb1stOrder-SSCxO1-Hex0EE__ConnRewireOrder2Hex0EE.json --force-reextract --force-rebuild\n",
      "sbatch run_model_building.sh model_config__ConnProb1stOrder-SSCxO1-Hex0EE__ConnRewireOrder3Hex0EE.json --force-reextract --force-rebuild\n",
      "sbatch run_model_building.sh model_config__ConnProb1stOrder-SSCxO1-Hex0EE__ConnRewireOrder4Hex0EE.json --force-reextract --force-rebuild\n",
      "sbatch run_model_building.sh model_config__ConnProb1stOrder-SSCxO1-Hex0EE__ConnRewireOrder5Hex0EE.json --force-reextract --force-rebuild\n",
      "\n",
      "# MODEL ConnProb2ndOrderComplex-SSCxO1-Hex0EE [CHECK ALLOCATION TIME!!]\n",
      "sbatch run_model_building.sh model_config__ConnProb2ndOrderComplex-SSCxO1-Hex0EE__ConnRewireOrder1Hex0EE.json --force-reextract --force-rebuild\n",
      "sbatch run_model_building.sh model_config__ConnProb2ndOrderComplex-SSCxO1-Hex0EE__ConnRewireOrder2Hex0EE.json --force-reextract --force-rebuild\n",
      "sbatch run_model_building.sh model_config__ConnProb2ndOrderComplex-SSCxO1-Hex0EE__ConnRewireOrder3Hex0EE.json --force-reextract --force-rebuild\n",
      "sbatch run_model_building.sh model_config__ConnProb2ndOrderComplex-SSCxO1-Hex0EE__ConnRewireOrder4Hex0EE.json --force-reextract --force-rebuild\n",
      "sbatch run_model_building.sh model_config__ConnProb2ndOrderComplex-SSCxO1-Hex0EE__ConnRewireOrder5Hex0EE.json --force-reextract --force-rebuild\n",
      "\n",
      "# MODEL ConnProb3rdOrderComplex-SSCxO1-Hex0EE [CHECK ALLOCATION TIME!!]\n",
      "sbatch run_model_building.sh model_config__ConnProb3rdOrderComplex-SSCxO1-Hex0EE__ConnRewireOrder1Hex0EE.json --force-reextract --force-rebuild\n",
      "sbatch run_model_building.sh model_config__ConnProb3rdOrderComplex-SSCxO1-Hex0EE__ConnRewireOrder2Hex0EE.json --force-reextract --force-rebuild\n",
      "sbatch run_model_building.sh model_config__ConnProb3rdOrderComplex-SSCxO1-Hex0EE__ConnRewireOrder3Hex0EE.json --force-reextract --force-rebuild\n",
      "sbatch run_model_building.sh model_config__ConnProb3rdOrderComplex-SSCxO1-Hex0EE__ConnRewireOrder4Hex0EE.json --force-reextract --force-rebuild\n",
      "sbatch run_model_building.sh model_config__ConnProb3rdOrderComplex-SSCxO1-Hex0EE__ConnRewireOrder5Hex0EE.json --force-reextract --force-rebuild\n",
      "\n",
      "# MODEL ConnProb4thOrder-SSCxO1-Hex0EE [CHECK ALLOCATION TIME!!]\n",
      "sbatch run_model_building.sh model_config__ConnProb4thOrder-SSCxO1-Hex0EE__ConnRewireOrder1Hex0EE.json --force-reextract --force-rebuild\n",
      "sbatch run_model_building.sh model_config__ConnProb4thOrder-SSCxO1-Hex0EE__ConnRewireOrder2Hex0EE.json --force-reextract --force-rebuild\n",
      "sbatch run_model_building.sh model_config__ConnProb4thOrder-SSCxO1-Hex0EE__ConnRewireOrder3Hex0EE.json --force-reextract --force-rebuild\n",
      "sbatch run_model_building.sh model_config__ConnProb4thOrder-SSCxO1-Hex0EE__ConnRewireOrder4Hex0EE.json --force-reextract --force-rebuild\n",
      "sbatch run_model_building.sh model_config__ConnProb4thOrder-SSCxO1-Hex0EE__ConnRewireOrder5Hex0EE.json --force-reextract --force-rebuild\n",
      "\n",
      "# MODEL ConnProb5thOrder-SSCxO1-Hex0EE [CHECK ALLOCATION TIME!!]\n",
      "sbatch run_model_building.sh model_config__ConnProb5thOrder-SSCxO1-Hex0EE__ConnRewireOrder1Hex0EE.json --force-reextract --force-rebuild\n",
      "sbatch run_model_building.sh model_config__ConnProb5thOrder-SSCxO1-Hex0EE__ConnRewireOrder2Hex0EE.json --force-reextract --force-rebuild\n",
      "sbatch run_model_building.sh model_config__ConnProb5thOrder-SSCxO1-Hex0EE__ConnRewireOrder3Hex0EE.json --force-reextract --force-rebuild\n",
      "sbatch run_model_building.sh model_config__ConnProb5thOrder-SSCxO1-Hex0EE__ConnRewireOrder4Hex0EE.json --force-reextract --force-rebuild\n",
      "sbatch run_model_building.sh model_config__ConnProb5thOrder-SSCxO1-Hex0EE__ConnRewireOrder5Hex0EE.json --force-reextract --force-rebuild\n"
     ]
    }
   ],
   "source": [
    "print(f\"# LAUNCH COMMANDS:\")\n",
    "print(f\"cd {config_path}\")\n",
    "\n",
    "for _fn in model_configs:\n",
    "    print()\n",
    "    print(f\"# MODEL {os.path.splitext(_fn.split('__')[1])[0]} [CHECK ALLOCATION TIME!!]\")\n",
    "    for _cspec in circuit_specs_manip:\n",
    "        # Load original model building config\n",
    "        with open(os.path.join(model_config_path, _fn), 'r') as f:\n",
    "            _mcfg = json.load(f)\n",
    "\n",
    "        # Re-define output path\n",
    "        _mcfg['working_dir'] = os.path.join(output_path, _cspec['name'])\n",
    "        _mcfg['out_dir'] = _mcfg['working_dir']\n",
    "\n",
    "        # Re-define circuit\n",
    "        _mcfg['circuit_config'] = _cspec['config']\n",
    "\n",
    "        # Write new model building validation config\n",
    "        export_model_config(_mcfg, _cspec['name'].split('__')[1], config_path)\n"
   ]
  },
  {
   "cell_type": "code",
   "execution_count": null,
   "metadata": {},
   "outputs": [],
   "source": []
  },
  {
   "cell_type": "markdown",
   "metadata": {},
   "source": [
    "<u>Notes on allocation times</u>:\n",
    "- `DistDepDelay-SSCxO1-Hex0EE:` 1h allocated, a few minutes running\n",
    "- `ConnPropsPerPathway-SSCxO1-Hex0EE:` 4h allocated, ~3h running\n",
    "- `ConnProb1stOrder-SSCxO1-Hex0EE:` 1h allocated, a few minutes running\n",
    "- `ConnProb2ndOrderComplex-SSCxO1-Hex0EE:` 1h allocated, ~10min running\n",
    "- `ConnProb3rdOrderComplex-SSCxO1-Hex0EE:` 1h allocated, ~10min running\n",
    "- `ConnProb4thOrder-SSCxO1-Hex0EE:` 2h allocated, ~1h running\n",
    "- `ConnProb5thOrder-SSCxO1-Hex0EE:` 16h allocated, ~13h running\n"
   ]
  },
  {
   "cell_type": "code",
   "execution_count": null,
   "metadata": {},
   "outputs": [],
   "source": []
  },
  {
   "cell_type": "markdown",
   "metadata": {},
   "source": [
    "### Validate models extracted from simplified connectomes\n",
    "\n",
    "...by comparing them to the same models extracted from the original connectome\n",
    "\n",
    "ℹ️ Set paths below pointing to model fitting results folders"
   ]
  },
  {
   "cell_type": "code",
   "execution_count": 11,
   "metadata": {},
   "outputs": [],
   "source": [
    "# Model paths\n",
    "orig_model_path = '/gpfs/bbp.cscs.ch/data/scratch/proj83/home/pokorny/Zenodo/SSCx-connectome-manipulation-data/simplified_connectomes/model_building'\n",
    "val_model_path = '/gpfs/bbp.cscs.ch/data/scratch/proj83/home/pokorny/Zenodo/SSCx-connectome-manipulation-data/simplified_connectomes/model_validation'"
   ]
  },
  {
   "cell_type": "code",
   "execution_count": 12,
   "metadata": {},
   "outputs": [],
   "source": [
    "# Load original circuit\n",
    "node_set = \"hex0\"\n",
    "syn_class = \"EXC\"\n",
    "c = Circuit(circuit_config)\n",
    "nodes = c.nodes[\"S1nonbarrel_neurons\"]\n",
    "nids = np.intersect1d(nodes.ids(node_set), nodes.ids({\"synapse_class\": syn_class}))\n",
    "node_pos = nodes.positions(nids).to_numpy()"
   ]
  },
  {
   "cell_type": "code",
   "execution_count": null,
   "metadata": {},
   "outputs": [],
   "source": []
  },
  {
   "cell_type": "markdown",
   "metadata": {},
   "source": [
    "#### Validate connection probabilities\n",
    "\n",
    "- Collect conn. prob. models\n",
    "- Campare differences of individual probability functions to the ones extracted from original connectome\n",
    "- Based on connection probabilities probed at different distance/dr/dz/z bins (depending on model order)\n",
    "- Using mean-squared error (MSE) as error metric"
   ]
  },
  {
   "cell_type": "code",
   "execution_count": 13,
   "metadata": {},
   "outputs": [],
   "source": [
    "prob_model_names = ['ConnProb1stOrder-SSCxO1-Hex0EE',\n",
    "                    'ConnProb2ndOrderComplex-SSCxO1-Hex0EE',\n",
    "                    'ConnProb3rdOrderComplex-SSCxO1-Hex0EE',\n",
    "                    'ConnProb4thOrder-SSCxO1-Hex0EE',\n",
    "                    'ConnProb5thOrder-SSCxO1-Hex0EE']"
   ]
  },
  {
   "cell_type": "code",
   "execution_count": 14,
   "metadata": {},
   "outputs": [],
   "source": [
    "def get_model_conn_prob(model, dist=None, dr=None, dz=None, z=None, do_plot=False):\n",
    "    mname = model.__class__.__name__\n",
    "\n",
    "    if dist is not None:\n",
    "        assert np.all(dist >= 0), 'ERROR: Distance values negative!'\n",
    "\n",
    "    # Get model probability, depending on model order\n",
    "    if '1' in mname:  # Constant\n",
    "        p = model.get_conn_prob()\n",
    "        if do_plot:\n",
    "            plt.stem(0, p); plt.xticks([0], labels=[])\n",
    "    elif '2' in mname:  # Distance-dependent (requires: dist)\n",
    "        assert dist is not None, 'ERROR: \"dist\" required!'\n",
    "        p = model.get_conn_prob(dist)\n",
    "        if do_plot:\n",
    "            plt.plot(dist, p)\n",
    "    elif '3' in mname:  # Bipolar distance-dependent (requires: dist)\n",
    "        assert dist is not None, 'ERROR: \"dist\" required!'\n",
    "        bip_dist = np.unique(np.hstack([np.flip(-dist), dist]))\n",
    "        p = model.get_conn_prob(np.abs(bip_dist), np.sign(bip_dist))\n",
    "        if do_plot:\n",
    "            plt.plot(bip_dist, p)\n",
    "    elif '4' in mname:  # Offset-dependent (requires: dr, dz)\n",
    "        assert dr is not None and dz is not None, 'ERROR: \"dr\" and \"dz\" required!'\n",
    "        drv, dzv = np.meshgrid(dr, dz, indexing=\"ij\")\n",
    "        pos = np.array([drv.flatten(), dzv.flatten()]).T  # Regular grid\n",
    "        p = model.get_conn_prob(pos[:, 0], pos[:, 1])\n",
    "        p = p.reshape([len(dr), len(dz)])\n",
    "        if do_plot:\n",
    "            plt.imshow(p.T, interpolation=\"nearest\", cmap=plt.cm.hot, vmin=0.0); plt.gca().invert_yaxis()\n",
    "    elif '5' in mname:  # Position-dependent (requires: dr, dz, z)\n",
    "        assert dr is not None and dz is not None and z is not None, 'ERROR: \"dr\", \"dz\" and \"z\" required!'\n",
    "        zv, drv, dzv = np.meshgrid(z, dr, dz, indexing=\"ij\")\n",
    "        pos = np.array([zv.flatten(), drv.flatten(), dzv.flatten()]).T  # Regular grid\n",
    "        p = model.get_conn_prob(pos[:, 0], pos[:, 1], pos[:, 2])\n",
    "        p = p.reshape([len(z), len(dr), len(dz)])\n",
    "        if do_plot:\n",
    "            plt.imshow(np.vstack(p).T, interpolation=\"nearest\", cmap=plt.cm.hot, vmin=0.0); plt.gca().invert_yaxis()\n",
    "    else:\n",
    "        print('ERROR: Model order unknown!')\n",
    "\n",
    "    return p"
   ]
  },
  {
   "cell_type": "code",
   "execution_count": 15,
   "metadata": {},
   "outputs": [
    {
     "name": "stdout",
     "output_type": "stream",
     "text": [
      "Probing probabilities at...\n",
      "  dist: 0..2500 (251)\n",
      "  dr: 0..500 (51)\n",
      "  dz: -1600..600 (221)\n",
      "  z: -2000..0 (201)\n",
      "\n",
      "Model \"ConnProb1stOrder-SSCxO1-Hex0EE\" validation...\n",
      "  ...Circuit \"SSCx-HexO1-Release__ConnRewireOrder1Hex0EE\"\n",
      "  ...Circuit \"SSCx-HexO1-Release__ConnRewireOrder2Hex0EE\"\n",
      "  ...Circuit \"SSCx-HexO1-Release__ConnRewireOrder3Hex0EE\"\n",
      "  ...Circuit \"SSCx-HexO1-Release__ConnRewireOrder4Hex0EE\"\n",
      "  ...Circuit \"SSCx-HexO1-Release__ConnRewireOrder5Hex0EE\"\n",
      "\n",
      "Model \"ConnProb2ndOrderComplex-SSCxO1-Hex0EE\" validation...\n",
      "  ...Circuit \"SSCx-HexO1-Release__ConnRewireOrder1Hex0EE\"\n"
     ]
    },
    {
     "name": "stderr",
     "output_type": "stream",
     "text": [
      "WARNING:root:Proximal exponential decays slower than distal exponential ({'prox_scale': 0.010046139378655899, 'prox_exp': 5.528431534354822e-10, 'prox_exp_pow': 1.9770632285928729, 'dist_scale': 6.832087423264773e-24, 'dist_exp': 0.00031173820249585476})!\n"
     ]
    },
    {
     "name": "stdout",
     "output_type": "stream",
     "text": [
      "  ...Circuit \"SSCx-HexO1-Release__ConnRewireOrder2Hex0EE\"\n",
      "  ...Circuit \"SSCx-HexO1-Release__ConnRewireOrder3Hex0EE\"\n",
      "  ...Circuit \"SSCx-HexO1-Release__ConnRewireOrder4Hex0EE\"\n",
      "  ...Circuit \"SSCx-HexO1-Release__ConnRewireOrder5Hex0EE\"\n",
      "\n",
      "Model \"ConnProb3rdOrderComplex-SSCxO1-Hex0EE\" validation...\n",
      "  ...Circuit \"SSCx-HexO1-Release__ConnRewireOrder1Hex0EE\"\n"
     ]
    },
    {
     "name": "stderr",
     "output_type": "stream",
     "text": [
      "WARNING:root:Proximal (N) exponential decays slower than distal (N) exponential ({'prox_scale_P': 1.183684954054528e-12, 'prox_scale_N': 0.005024235530746361, 'prox_exp_P': 6.527054034523126e-05, 'prox_exp_N': 9.999999995093202e-11, 'prox_exp_pow_P': 1.0018891727822927, 'prox_exp_pow_N': 1.0000000001, 'dist_scale_P': 0.010097675284226221, 'dist_scale_N': 0.005024235530746361, 'dist_exp_P': 6.7071482580324965e-06, 'dist_exp_N': 9.999999995093202e-11, 'bip_coord': 2})!\n"
     ]
    },
    {
     "name": "stdout",
     "output_type": "stream",
     "text": [
      "  ...Circuit \"SSCx-HexO1-Release__ConnRewireOrder2Hex0EE\"\n",
      "  ...Circuit \"SSCx-HexO1-Release__ConnRewireOrder3Hex0EE\"\n",
      "  ...Circuit \"SSCx-HexO1-Release__ConnRewireOrder4Hex0EE\"\n",
      "  ...Circuit \"SSCx-HexO1-Release__ConnRewireOrder5Hex0EE\"\n"
     ]
    },
    {
     "name": "stderr",
     "output_type": "stream",
     "text": [
      "WARNING:root:Proximal (N) exponential decays slower than distal (N) exponential ({'prox_scale_P': 0.05159563683175466, 'prox_scale_N': 0.011486189862457625, 'prox_exp_P': 0.00020806382470319503, 'prox_exp_N': 6.212962836444229e-07, 'prox_exp_pow_P': 1.7591848812247495, 'prox_exp_pow_N': 1.999999999999883, 'dist_scale_P': 0.03677119447041799, 'dist_scale_N': 0.11789935259307126, 'dist_exp_P': 0.005146578767625061, 'dist_exp_N': 0.007301893971806276, 'bip_coord': 2})!\n"
     ]
    },
    {
     "name": "stdout",
     "output_type": "stream",
     "text": [
      "\n",
      "Model \"ConnProb4thOrder-SSCxO1-Hex0EE\" validation...\n",
      "  ...Circuit \"SSCx-HexO1-Release__ConnRewireOrder1Hex0EE\"\n"
     ]
    },
    {
     "name": "stderr",
     "output_type": "stream",
     "text": [
      "WARNING:root:Probability at border should be close to zero (p_abs=0.01 (th_abs=0.01); p_rel=1.00 (th_rel=0.10)). Consider smoothing and/or increasing max. sampling range!\n"
     ]
    },
    {
     "name": "stdout",
     "output_type": "stream",
     "text": [
      "  ...Circuit \"SSCx-HexO1-Release__ConnRewireOrder2Hex0EE\"\n"
     ]
    },
    {
     "name": "stderr",
     "output_type": "stream",
     "text": [
      "WARNING:root:Probability at border should be close to zero (p_abs=0.01 (th_abs=0.01); p_rel=0.11 (th_rel=0.10)). Consider smoothing and/or increasing max. sampling range!\n"
     ]
    },
    {
     "name": "stdout",
     "output_type": "stream",
     "text": [
      "  ...Circuit \"SSCx-HexO1-Release__ConnRewireOrder3Hex0EE\"\n"
     ]
    },
    {
     "name": "stderr",
     "output_type": "stream",
     "text": [
      "WARNING:root:Probability at border should be close to zero (p_abs=0.01 (th_abs=0.01); p_rel=0.14 (th_rel=0.10)). Consider smoothing and/or increasing max. sampling range!\n"
     ]
    },
    {
     "name": "stdout",
     "output_type": "stream",
     "text": [
      "  ...Circuit \"SSCx-HexO1-Release__ConnRewireOrder4Hex0EE\"\n",
      "  ...Circuit \"SSCx-HexO1-Release__ConnRewireOrder5Hex0EE\"\n",
      "\n",
      "Model \"ConnProb5thOrder-SSCxO1-Hex0EE\" validation...\n",
      "  ...Circuit \"SSCx-HexO1-Release__ConnRewireOrder1Hex0EE\"\n"
     ]
    },
    {
     "name": "stderr",
     "output_type": "stream",
     "text": [
      "WARNING:root:Probability at border should be close to zero (p_abs=0.01 (th_abs=0.01); p_rel=0.48 (th_rel=0.10)). Consider smoothing and/or increasing max. sampling range!\n"
     ]
    },
    {
     "name": "stdout",
     "output_type": "stream",
     "text": [
      "  ...Circuit \"SSCx-HexO1-Release__ConnRewireOrder2Hex0EE\"\n"
     ]
    },
    {
     "name": "stderr",
     "output_type": "stream",
     "text": [
      "WARNING:root:Probability at border should be close to zero (p_abs=0.01 (th_abs=0.01); p_rel=0.10 (th_rel=0.10)). Consider smoothing and/or increasing max. sampling range!\n"
     ]
    },
    {
     "name": "stdout",
     "output_type": "stream",
     "text": [
      "  ...Circuit \"SSCx-HexO1-Release__ConnRewireOrder3Hex0EE\"\n"
     ]
    },
    {
     "name": "stderr",
     "output_type": "stream",
     "text": [
      "WARNING:root:Probability at border should be close to zero (p_abs=0.02 (th_abs=0.01); p_rel=0.17 (th_rel=0.10)). Consider smoothing and/or increasing max. sampling range!\n"
     ]
    },
    {
     "name": "stdout",
     "output_type": "stream",
     "text": [
      "  ...Circuit \"SSCx-HexO1-Release__ConnRewireOrder4Hex0EE\"\n",
      "  ...Circuit \"SSCx-HexO1-Release__ConnRewireOrder5Hex0EE\"\n"
     ]
    }
   ],
   "source": [
    "step_size = 10  # Probing step size in um\n",
    "dist = np.arange(0, 2501, step_size)\n",
    "dr = np.arange(0, 501, step_size)\n",
    "dz = np.arange(-1600, 601, step_size)\n",
    "z = np.arange(-2000, 1, step_size)\n",
    "p_kwargs = dict(dist=dist, dr=dr, dz=dz, z=z)  # Keyword args for probing probabilities\n",
    "\n",
    "print('Probing probabilities at...', flush=True)\n",
    "for _k, _v in p_kwargs.items():\n",
    "    print(f'  {_k}: {np.min(_v)}..{np.max(_v)} ({len(_v)})', flush=True)\n",
    "\n",
    "model_errors_mse = np.full((len(prob_model_names), len(circuit_names_manip)), np.nan)\n",
    "\n",
    "# Loop over models\n",
    "for i_mod, mname in enumerate(prob_model_names):\n",
    "    print(f'\\nModel \"{mname}\" validation...', flush=True)\n",
    "    orig_model = model_types.AbstractModel.model_from_file(os.path.join(orig_model_path, circuit_name_base, 'model', mname + '.json'))\n",
    "    p_orig = get_model_conn_prob(orig_model, **p_kwargs)\n",
    "\n",
    "    # Inner loop over circuits\n",
    "    for i_circ, cname in enumerate(circuit_names_manip):\n",
    "        print(f'  ...Circuit \"{cname}\"', flush=True)\n",
    "        fn = os.path.join(val_model_path, cname, 'model', mname + '.json')\n",
    "        if not os.path.exists(fn):\n",
    "            continue\n",
    "        manip_model = model_types.AbstractModel.model_from_file(fn)\n",
    "        p_manip = get_model_conn_prob(manip_model, **p_kwargs)\n",
    "\n",
    "        mse = np.nanmean((p_manip - p_orig)**2)  # Mean squared error\n",
    "        model_errors_mse[i_mod, i_circ] = mse"
   ]
  },
  {
   "cell_type": "code",
   "execution_count": 17,
   "metadata": {},
   "outputs": [
    {
     "name": "stdout",
     "output_type": "stream",
     "text": [
      "Validation results saved to \"/gpfs/bbp.cscs.ch/data/scratch/proj83/home/pokorny/Zenodo/SSCx-connectome-manipulation-data/simplified_connectomes/model_validation/prob_model_errors.pickle\"\n"
     ]
    }
   ],
   "source": [
    "# Save to file\n",
    "res_file = os.path.join(val_model_path, 'prob_model_errors.pickle')\n",
    "res_dict = {'model_errors_mse': model_errors_mse,\n",
    "            'order_list': order_list,\n",
    "            'prob_model_names': prob_model_names,\n",
    "            'circuit_names_manip': circuit_names_manip,\n",
    "            'p_kwargs': p_kwargs}\n",
    "with open(res_file, 'wb') as f:\n",
    "    pickle.dump(res_dict, f)\n",
    "print(f'Validation results saved to \"{res_file}\"')"
   ]
  },
  {
   "cell_type": "code",
   "execution_count": 18,
   "metadata": {},
   "outputs": [
    {
     "data": {
      "image/png": "[encoded data removed]",
      "text/plain": [
       "<Figure size 640x480 with 1 Axes>"
      ]
     },
     "metadata": {},
     "output_type": "display_data"
    }
   ],
   "source": [
    "# Plot\n",
    "plt.figure()\n",
    "plt.plot(order_list, model_errors_mse)\n",
    "plt.xticks(order_list)\n",
    "plt.xlabel('Model order')\n",
    "plt.ylabel('MSE w.r.t. to orig.')\n",
    "plt.legend([f'Order {_ord}' for _ord in order_list], title='Connectome')\n",
    "plt.show()"
   ]
  },
  {
   "cell_type": "code",
   "execution_count": null,
   "metadata": {},
   "outputs": [],
   "source": []
  }
 ],
 "metadata": {
  "kernelspec": {
   "display_name": "ReWiringKernel",
   "language": "python",
   "name": "rewiringkernel"
  },
  "language_info": {
   "codemirror_mode": {
    "name": "ipython",
    "version": 3
   },
   "file_extension": ".py",
   "mimetype": "text/x-python",
   "name": "python",
   "nbconvert_exporter": "python",
   "pygments_lexer": "ipython3",
   "version": "3.10.8"
  }
 },
 "nbformat": 4,
 "nbformat_minor": 4
}
