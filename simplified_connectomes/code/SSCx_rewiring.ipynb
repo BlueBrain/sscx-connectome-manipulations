{
 "cells": [
  {
   "cell_type": "raw",
   "metadata": {},
   "source": [
    "This file is part of sscx-connectome-manipulations.\n",
    "\n",
    "SPDX-License-Identifier: Apache-2.0\n",
    "Copyright (c) 2024 Blue Brain Project/EPFL"
   ]
  },
  {
   "cell_type": "markdown",
   "metadata": {},
   "source": [
    "# SSCx connectome rewiring based on simplified models of connectivity\n",
    "This is an auxiliary notebook for configuring 1st..5th-order connectome rewiring, which\n",
    " - sets up connectome manipulations (rewiring)\n",
    " - writes .json config file for running rewiring using <code>sbatch</code>\n",
    " - allows iterative matching of overall numbers of connections\n",
    "\n",
    "ℹ️ Part of reproduction of simplified connectomes experiment described in [Pokorny et al. (2024)](https://doi.org/10.1101/2024.05.24.593860)\n",
    "\n",
    "<u>Requirements</u>:\n",
    "- [Connectome-Manipulator](https://github.com/BlueBrain/connectome-manipulator) (Python venv)\n",
    "- [SSCx network model](https://doi.org/10.5281/zenodo.8026353)\n",
    "- Fitted stochastic and auxiliary models, see `SSCx_model_fitting.ipynb` (also available in Zenodo dataset)"
   ]
  },
  {
   "cell_type": "markdown",
   "metadata": {},
   "source": [
    "_SSCx network model:_ Download and extract `O1_data_physiology_withfix.xz` and set path accordingly:"
   ]
  },
  {
   "cell_type": "code",
   "execution_count": 1,
   "metadata": {},
   "outputs": [],
   "source": [
    "# Path to SSCx network model\n",
    "circuit_config = '/gpfs/bbp.cscs.ch/project/proj83/jira-tickets/NSETM-1948-extract-hex-O1/data/O1_data/circuit_config.json'"
   ]
  },
  {
   "cell_type": "code",
   "execution_count": null,
   "metadata": {},
   "outputs": [],
   "source": []
  },
  {
   "cell_type": "code",
   "execution_count": 18,
   "metadata": {},
   "outputs": [],
   "source": [
    "# Initialization\n",
    "\n",
    "\"\"\" Global imports \"\"\"\n",
    "import json\n",
    "import numpy as np\n",
    "import os\n",
    "import tqdm"
   ]
  },
  {
   "cell_type": "code",
   "execution_count": 19,
   "metadata": {},
   "outputs": [],
   "source": [
    "def default_manip_config(circuit_config, seed=3210, N_split=None):\n",
    "    \"\"\"Generates a default manipulation config dict w/o any specific manipulation.\"\"\"\n",
    "    manip_config = {}\n",
    "    manip_config['circuit_config'] = circuit_config\n",
    "    manip_config['seed'] = seed\n",
    "    if N_split is not None:\n",
    "        manip_config['N_split_nodes'] = N_split\n",
    "    return manip_config\n",
    "\n",
    "def order_from_name(name):\n",
    "    order_str = name.split(\"Order\")[0]\n",
    "    order = [int(i) for i in order_str if i.isdigit()]\n",
    "    assert len(order) == 1, \"ERROR: Order could not be determined!\"\n",
    "    return order[0]\n",
    "\n",
    "def order_from_model_file(model_file):\n",
    "    with open(model_file, \"r\") as f:\n",
    "        model_dict = json.load(f)\n",
    "    order = order_from_name(model_dict.get(\"model\", \"\"))\n",
    "    assert order > 0, \"ERROR: Invalid model order!\"\n",
    "    return order\n",
    "\n",
    "def add_manip_to_config(manip_config, pos_map_file, prob_model_file, delay_model_file, props_model_file, calib_run=True, p_scale=None):\n",
    "    \"\"\"Adds a specific n-th order rewiring operation to the (v4) manipulation config dict (in-place).\"\"\"\n",
    "    assert 'manip' not in manip_config, \"ERROR: Manipulation operation already specified!\"\n",
    "    order = order_from_model_file(prob_model_file)\n",
    "    if p_scale is None:\n",
    "        p_scale = 1.0\n",
    "    else:\n",
    "        assert p_scale > 0.0, \"ERROR: p_scale out of range!\"\n",
    "    manip_config['manip'] = {'name': f'ConnRewireOrder{order}Hex0EE',\n",
    "                             'fcts': [{'source': 'conn_rewiring',\n",
    "                                       'sel_src': {'node_set': 'hex0', 'synapse_class': 'EXC'},\n",
    "                                       'sel_dest': {'node_set': 'hex0', 'synapse_class': 'EXC'},\n",
    "                                       'syn_class': 'EXC',\n",
    "                                       'keep_indegree': False,\n",
    "                                       'reuse_conns': False,\n",
    "                                       'keep_conns': False,\n",
    "                                       'gen_method': 'randomize',\n",
    "                                       'syn_pos_mode': 'reuse',\n",
    "                                       'amount_pct': 100,\n",
    "                                       'estimation_run': calib_run,\n",
    "                                       'opt_nconn': not calib_run,\n",
    "                                       'p_scale': p_scale,\n",
    "                                       'pos_map_file': pos_map_file,\n",
    "                                       'model_config': {'prob_model_spec': {'file': prob_model_file},\n",
    "                                                        'delay_model_spec': {'file': delay_model_file},\n",
    "                                                        'props_model_spec': {'file': props_model_file}}}]}\n",
    "\n",
    "def export_manip_config(manip_config, config_path, print_cmd=False, circuit_name=None, output_base_path=None, N_parallel=None, calib_run=False):\n",
    "    \"\"\"Writes manipulation config to .json config file(s).\"\"\"\n",
    "    if not isinstance(config_path, list):\n",
    "        config_path = [config_path]\n",
    "\n",
    "    fn = f'manip_config__{manip_config[\"manip\"][\"name\"]}.json'\n",
    "    for cpath in config_path:\n",
    "        with open(os.path.join(cpath, fn), 'w') as f:\n",
    "            json.dump(manip_config, f, indent=2)\n",
    "        print(f\"Config file {fn} written to {cpath}\")\n",
    "\n",
    "    if print_cmd:\n",
    "        assert circuit_name is not None and output_base_path is not None and N_parallel is not None, \\\n",
    "            \"ERROR: circuit_name/output_base_path/N_parallel required for printing launch command!\"\n",
    "        print()\n",
    "        output_dir = os.path.join(output_base_path, circuit_name + f'__{manip_config[\"manip\"][\"name\"]}')\n",
    "        print_launch_cmd(cpath, fn, output_dir, N_parallel, calib_run)\n",
    "\n",
    "def print_launch_cmd(config_path, config_fn, output_dir, N_parallel, calib_run):\n",
    "    if calib_run:\n",
    "        run_cmd = f'sbatch run_rewiring_parallel__estimation_run.sh \"{config_fn}\" \"{output_dir}\" {N_parallel}'\n",
    "    else:\n",
    "        run_cmd = f'sbatch run_rewiring_parallel.sh \"{config_fn}\" \"{output_dir}\" {N_parallel}'\n",
    "    print(f\"# LAUNCH COMMAND: [DON'T LAUNCH FROM WITHIN ANOTHER SLURM ALLOCATION!]\")\n",
    "    print(f\"cd {config_path}\")\n",
    "    print(run_cmd)\n"
   ]
  },
  {
   "cell_type": "code",
   "execution_count": null,
   "metadata": {},
   "outputs": [],
   "source": []
  },
  {
   "cell_type": "markdown",
   "metadata": {},
   "source": [
    "ℹ️ Configure config, model, and output paths:"
   ]
  },
  {
   "cell_type": "code",
   "execution_count": 14,
   "metadata": {},
   "outputs": [],
   "source": [
    "# Rewiring configuration\n",
    "circuit_name = 'SSCx-HexO1-Release'\n",
    "output_base_path = '/gpfs/bbp.cscs.ch/data/scratch/proj83/home/pokorny/Zenodo/SSCx-connectome-manipulation-data/simplified_connectomes/circuits'\n",
    "config_path = '../configs'  # Must exist!\n",
    "models_path = os.path.join('/gpfs/bbp.cscs.ch/data/scratch/proj83/home/pokorny/Zenodo/SSCx-connectome-manipulation-data/simplified_connectomes/model_building', circuit_name, 'model')  # Location of model files"
   ]
  },
  {
   "cell_type": "code",
   "execution_count": 6,
   "metadata": {},
   "outputs": [],
   "source": [
    "# Model selection (hex0 column models!!)\n",
    "flatpos_model_file = os.path.join(models_path, 'FlatPosMapping-SSCxO1.json')\n",
    "prob_model_files = [os.path.join(models_path, 'ConnProb1stOrder-SSCxO1-Hex0EE.json'),\n",
    "                    os.path.join(models_path, 'ConnProb2ndOrderComplex-SSCxO1-Hex0EE.json'),\n",
    "                    os.path.join(models_path, 'ConnProb3rdOrderComplex-SSCxO1-Hex0EE.json'),\n",
    "                    os.path.join(models_path, 'ConnProb4thOrder-SSCxO1-Hex0EE.json'),\n",
    "                    os.path.join(models_path, 'ConnProb5thOrder-SSCxO1-Hex0EE.json')]\n",
    "delay_model_file = os.path.join(models_path, 'DistDepDelay-SSCxO1-Hex0EE.json')\n",
    "props_model_file = os.path.join(models_path, 'ConnPropsPerPathway-SSCxO1-Hex0EE.json')\n"
   ]
  },
  {
   "cell_type": "code",
   "execution_count": null,
   "metadata": {},
   "outputs": [],
   "source": []
  },
  {
   "cell_type": "markdown",
   "metadata": {},
   "source": [
    "## Create rewiring configs and run rewiring (estimation)\n",
    "- Central column (hex0) of SSCx-HexO1 connectome\n",
    "- EXC-EXC connections only\n",
    "\n",
    "ℹ️ To run rewiring, configure the SLURM script `run_rewiring_parallel<__estimation_run>.sh` according to the used computation system and run below LAUNCH COMMANDS for generating the rewired circuits.\n",
    "\n",
    "ℹ️ All rewired circuits are also contained in the Zenodo dataset\n",
    "\n",
    "IMPORTANT: Folloing steps are required for matching the overall numbers of connections for a given Nth-order model:\n",
    "1. Generate `manip_config` with \"estimation run\" option (`calib_run=True`)\n",
    "2. Launch rewiring\n",
    "3. Extract connection counts from data logs (follow section \"Matching number of connections\" below)\n",
    "4. Update `p_scale` and repeat from step 1. (until converged or oscillating)\n",
    "5. Finally, generate `manip_config` without \"estimation run\" option (`calib_run=False`) and launch rewiring, which will produce the actual connectome"
   ]
  },
  {
   "cell_type": "code",
   "execution_count": 20,
   "metadata": {},
   "outputs": [
    {
     "name": "stdout",
     "output_type": "stream",
     "text": [
      "Config file manip_config__ConnRewireOrder1Hex0EE.json written to ../configs\n",
      "\n",
      "# LAUNCH COMMAND: [DON'T LAUNCH FROM WITHIN ANOTHER SLURM ALLOCATION!]\n",
      "cd ../configs\n",
      "sbatch run_rewiring_parallel.sh \"manip_config__ConnRewireOrder1Hex0EE.json\" \"/gpfs/bbp.cscs.ch/project/proj83/home/pokorny/SimplifiedConnectomeModels/circuits_v2/SSCx-HexO1-Release__ConnRewireOrder1Hex0EE\" 500\n"
     ]
    }
   ],
   "source": [
    "# 1st-order rewiring [CALIBRATION & REWIRING RUNS]\n",
    "manip_config = default_manip_config(circuit_config, seed=3210)\n",
    "\n",
    "# add_manip_to_config(manip_config, flatpos_model_file, prob_model_files[0], delay_model_file, props_model_file, calib_run=True, p_scale=1.0)\n",
    "# manip_config['manip']['name'] = manip_config['manip']['name'] + '__calib-0__'\n",
    "# add_manip_to_config(manip_config, flatpos_model_file, prob_model_files[0], delay_model_file, props_model_file, calib_run=True, p_scale=1.0 * 0.9996751184443766)\n",
    "# manip_config['manip']['name'] = manip_config['manip']['name'] + '__calib-1__'\n",
    "# add_manip_to_config(manip_config, flatpos_model_file, prob_model_files[0], delay_model_file, props_model_file, calib_run=True, p_scale=1.0 * 0.9996751184443766 * 0.9996751184443766)\n",
    "# manip_config['manip']['name'] = manip_config['manip']['name'] + '__calib-2__'\n",
    "# add_manip_to_config(manip_config, flatpos_model_file, prob_model_files[0], delay_model_file, props_model_file, calib_run=True, p_scale=1.0 * 0.9996751184443766 * 0.9996751184443766 * 0.9996751184443766)\n",
    "# manip_config['manip']['name'] = manip_config['manip']['name'] + '__calib-3__'\n",
    "# add_manip_to_config(manip_config, flatpos_model_file, prob_model_files[0], delay_model_file, props_model_file, calib_run=True, p_scale=1.0 * 0.9996751184443766 * 0.9996751184443766 * 0.9996751184443766 * 0.9996751184443766)\n",
    "# manip_config['manip']['name'] = manip_config['manip']['name'] + '__calib-4__'\n",
    "# add_manip_to_config(manip_config, flatpos_model_file, prob_model_files[0], delay_model_file, props_model_file, calib_run=True, p_scale=1.0 * 0.9996751184443766 * 0.9996751184443766 * 0.9996751184443766 * 0.9996751184443766 * 0.9996751184443766)\n",
    "# manip_config['manip']['name'] = manip_config['manip']['name'] + '__calib-5__'\n",
    "# add_manip_to_config(manip_config, flatpos_model_file, prob_model_files[0], delay_model_file, props_model_file, calib_run=True, p_scale=1.0 * 0.9996751184443766 * 0.9996751184443766 * 0.9996751184443766 * 0.9996751184443766 * 0.9996751184443766 * 1.003405249483348)\n",
    "# manip_config['manip']['name'] = manip_config['manip']['name'] + '__calib-6__'\n",
    "# export_manip_config(manip_config, config_paths, print_cmd=True, circuit_name=circuit_name, output_base_path=output_base_path, N_parallel=500, calib_run=True)\n",
    "\n",
    "add_manip_to_config(manip_config, flatpos_model_file, prob_model_files[0], delay_model_file, props_model_file, calib_run=False, p_scale=1.0)  # OPTIMUM\n",
    "export_manip_config(manip_config, config_path, print_cmd=True, circuit_name=circuit_name, output_base_path=output_base_path, N_parallel=500)"
   ]
  },
  {
   "cell_type": "code",
   "execution_count": null,
   "metadata": {},
   "outputs": [],
   "source": []
  },
  {
   "cell_type": "code",
   "execution_count": 21,
   "metadata": {},
   "outputs": [
    {
     "name": "stdout",
     "output_type": "stream",
     "text": [
      "Config file manip_config__ConnRewireOrder2Hex0EE.json written to ../configs\n",
      "\n",
      "# LAUNCH COMMAND: [DON'T LAUNCH FROM WITHIN ANOTHER SLURM ALLOCATION!]\n",
      "cd ../configs\n",
      "sbatch run_rewiring_parallel.sh \"manip_config__ConnRewireOrder2Hex0EE.json\" \"/gpfs/bbp.cscs.ch/project/proj83/home/pokorny/SimplifiedConnectomeModels/circuits_v2/SSCx-HexO1-Release__ConnRewireOrder2Hex0EE\" 500\n"
     ]
    }
   ],
   "source": [
    "# 2nd-order rewiring [CALIBRATION & REWIRING RUNS]\n",
    "manip_config = default_manip_config(circuit_config, seed=3210)\n",
    "\n",
    "# add_manip_to_config(manip_config, flatpos_model_file, prob_model_files[1], delay_model_file, props_model_file, calib_run=True, p_scale=1.0)\n",
    "# manip_config['manip']['name'] = manip_config['manip']['name'] + '__calib-0__'\n",
    "# add_manip_to_config(manip_config, flatpos_model_file, prob_model_files[1], delay_model_file, props_model_file, calib_run=True, p_scale=1.0 * 1.0044481864367405)\n",
    "# manip_config['manip']['name'] = manip_config['manip']['name'] + '__calib-1__'\n",
    "# add_manip_to_config(manip_config, flatpos_model_file, prob_model_files[1], delay_model_file, props_model_file, calib_run=True, p_scale=1.0 * 1.0044481864367405 * 0.9999923647346808)\n",
    "# manip_config['manip']['name'] = manip_config['manip']['name'] + '__calib-2__'\n",
    "# add_manip_to_config(manip_config, flatpos_model_file, prob_model_files[1], delay_model_file, props_model_file, calib_run=True, p_scale=1.0 * 1.0044481864367405 * 0.9999923647346808 * 1.0000015270670553)\n",
    "# manip_config['manip']['name'] = manip_config['manip']['name'] + '__calib-3__'\n",
    "# add_manip_to_config(manip_config, flatpos_model_file, prob_model_files[1], delay_model_file, props_model_file, calib_run=True, p_scale=1.0 * 1.0044481864367405 * 0.9999923647346808 * 1.0000015270670553 * 1.0000004164723708)\n",
    "# manip_config['manip']['name'] = manip_config['manip']['name'] + '__calib-4__'\n",
    "# add_manip_to_config(manip_config, flatpos_model_file, prob_model_files[1], delay_model_file, props_model_file, calib_run=True, p_scale=1.0 * 1.0044481864367405 * 0.9999923647346808 * 1.0000015270670553 * 1.0000004164723708 * 1.0000001388240851)\n",
    "# manip_config['manip']['name'] = manip_config['manip']['name'] + '__calib-5__'\n",
    "# add_manip_to_config(manip_config, flatpos_model_file, prob_model_files[1], delay_model_file, props_model_file, calib_run=True, p_scale=1.0 * 1.0044481864367405 * 0.9999923647346808 * 1.0000015270670553 * 1.0000004164723708 * 1.0000001388240851 * 0.9999997223519456)\n",
    "# manip_config['manip']['name'] = manip_config['manip']['name'] + '__calib-6__'\n",
    "# add_manip_to_config(manip_config, flatpos_model_file, prob_model_files[1], delay_model_file, props_model_file, calib_run=True, p_scale=1.0 * 1.0044481864367405 * 0.9999923647346808 * 1.0000015270670553 * 1.0000004164723708 * 1.0000001388240851 * 0.9999997223519456 * 1.0000002776482086)\n",
    "# manip_config['manip']['name'] = manip_config['manip']['name'] + '__calib-7__'\n",
    "# export_manip_config(manip_config, config_paths, print_cmd=True, circuit_name=circuit_name, output_base_path=output_base_path, N_parallel=500, calib_run=True)\n",
    "\n",
    "add_manip_to_config(manip_config, flatpos_model_file, prob_model_files[1], delay_model_file, props_model_file, calib_run=False, p_scale=1.0044424693787228)  # OPTIMUM\n",
    "export_manip_config(manip_config, config_path, print_cmd=True, circuit_name=circuit_name, output_base_path=output_base_path, N_parallel=500)"
   ]
  },
  {
   "cell_type": "code",
   "execution_count": null,
   "metadata": {},
   "outputs": [],
   "source": []
  },
  {
   "cell_type": "code",
   "execution_count": 22,
   "metadata": {},
   "outputs": [
    {
     "name": "stdout",
     "output_type": "stream",
     "text": [
      "Config file manip_config__ConnRewireOrder3Hex0EE.json written to ../configs\n",
      "\n",
      "# LAUNCH COMMAND: [DON'T LAUNCH FROM WITHIN ANOTHER SLURM ALLOCATION!]\n",
      "cd ../configs\n",
      "sbatch run_rewiring_parallel.sh \"manip_config__ConnRewireOrder3Hex0EE.json\" \"/gpfs/bbp.cscs.ch/project/proj83/home/pokorny/SimplifiedConnectomeModels/circuits_v2/SSCx-HexO1-Release__ConnRewireOrder3Hex0EE\" 500\n"
     ]
    }
   ],
   "source": [
    "# 3rd-order rewiring [CALIBRATION & REWIRING RUNS]\n",
    "manip_config = default_manip_config(circuit_config, seed=3210)\n",
    "\n",
    "# add_manip_to_config(manip_config, flatpos_model_file, prob_model_files[2], delay_model_file, props_model_file, calib_run=True, p_scale=1.0)\n",
    "# manip_config['manip']['name'] = manip_config['manip']['name'] + '__calib-0__'\n",
    "# add_manip_to_config(manip_config, flatpos_model_file, prob_model_files[2], delay_model_file, props_model_file, calib_run=True, p_scale=1.0 * 1.004624555260151)\n",
    "# manip_config['manip']['name'] = manip_config['manip']['name'] + '__calib-1__'\n",
    "# add_manip_to_config(manip_config, flatpos_model_file, prob_model_files[2], delay_model_file, props_model_file, calib_run=True, p_scale=1.0 * 1.004624555260151 * 1.000005275342328)\n",
    "# manip_config['manip']['name'] = manip_config['manip']['name'] + '__calib-2__'\n",
    "# add_manip_to_config(manip_config, flatpos_model_file, prob_model_files[2], delay_model_file, props_model_file, calib_run=True, p_scale=1.0 * 1.004624555260151 * 1.000005275342328 * 1.0000005552965714)\n",
    "# manip_config['manip']['name'] = manip_config['manip']['name'] + '__calib-3__'\n",
    "# add_manip_to_config(manip_config, flatpos_model_file, prob_model_files[2], delay_model_file, props_model_file, calib_run=True, p_scale=1.0 * 1.004624555260151 * 1.000005275342328 * 1.0000005552965714 * 0.9999997223519456)\n",
    "# manip_config['manip']['name'] = manip_config['manip']['name'] + '__calib-4__'\n",
    "# export_manip_config(manip_config, config_paths, print_cmd=True, circuit_name=circuit_name, output_base_path=output_base_path, N_parallel=500, calib_run=True)\n",
    "\n",
    "add_manip_to_config(manip_config, flatpos_model_file, prob_model_files[2], delay_model_file, props_model_file, calib_run=False, p_scale=1.004630412866105)  # OPTIMUM\n",
    "export_manip_config(manip_config, config_path, print_cmd=True, circuit_name=circuit_name, output_base_path=output_base_path, N_parallel=500)"
   ]
  },
  {
   "cell_type": "code",
   "execution_count": null,
   "metadata": {},
   "outputs": [],
   "source": []
  },
  {
   "cell_type": "code",
   "execution_count": 23,
   "metadata": {},
   "outputs": [
    {
     "name": "stdout",
     "output_type": "stream",
     "text": [
      "Config file manip_config__ConnRewireOrder4Hex0EE.json written to ../configs\n",
      "\n",
      "# LAUNCH COMMAND: [DON'T LAUNCH FROM WITHIN ANOTHER SLURM ALLOCATION!]\n",
      "cd ../configs\n",
      "sbatch run_rewiring_parallel.sh \"manip_config__ConnRewireOrder4Hex0EE.json\" \"/gpfs/bbp.cscs.ch/project/proj83/home/pokorny/SimplifiedConnectomeModels/circuits_v2/SSCx-HexO1-Release__ConnRewireOrder4Hex0EE\" 500\n"
     ]
    }
   ],
   "source": [
    "# 4th-order rewiring [CALIBRATION & REWIRING RUNS]\n",
    "manip_config = default_manip_config(circuit_config, seed=3210)\n",
    "\n",
    "# add_manip_to_config(manip_config, flatpos_model_file, prob_model_files[3], delay_model_file, props_model_file, calib_run=True, p_scale=1.0)\n",
    "# manip_config['manip']['name'] = manip_config['manip']['name'] + '__calib-0__'\n",
    "# add_manip_to_config(manip_config, flatpos_model_file, prob_model_files[3], delay_model_file, props_model_file, calib_run=True, p_scale=1.0 * 1.0207829350335418)\n",
    "# manip_config['manip']['name'] = manip_config['manip']['name'] + '__calib-1__'\n",
    "# add_manip_to_config(manip_config, flatpos_model_file, prob_model_files[3], delay_model_file, props_model_file, calib_run=True, p_scale=1.0 * 1.0207829350335418 * 1.0000151320521438)\n",
    "# manip_config['manip']['name'] = manip_config['manip']['name'] + '__calib-2__'\n",
    "# add_manip_to_config(manip_config, flatpos_model_file, prob_model_files[3], delay_model_file, props_model_file, calib_run=True, p_scale=1.0 * 1.0207829350335418 * 1.0000151320521438 * 0.9999987505849692)\n",
    "# manip_config['manip']['name'] = manip_config['manip']['name'] + '__calib-3__'\n",
    "# add_manip_to_config(manip_config, flatpos_model_file, prob_model_files[3], delay_model_file, props_model_file, calib_run=True, p_scale=1.0 * 1.0207829350335418 * 1.0000151320521438 * 0.9999987505849692 * 1.0000001388240851)\n",
    "# manip_config['manip']['name'] = manip_config['manip']['name'] + '__calib-4__'\n",
    "# add_manip_to_config(manip_config, flatpos_model_file, prob_model_files[3], delay_model_file, props_model_file, calib_run=True, p_scale=1.0 * 1.0207829350335418 * 1.0000151320521438 * 0.9999987505849692 * 1.0000001388240851 * 1.0000001388240851)\n",
    "# manip_config['manip']['name'] = manip_config['manip']['name'] + '__calib-5__'\n",
    "# export_manip_config(manip_config, config_paths, print_cmd=True, circuit_name=circuit_name, output_base_path=output_base_path, N_parallel=500, calib_run=True)\n",
    "\n",
    "add_manip_to_config(manip_config, flatpos_model_file, prob_model_files[3], delay_model_file, props_model_file, calib_run=False, p_scale=1.0207973895957692)  # OPTIMUM\n",
    "export_manip_config(manip_config, config_path, print_cmd=True, circuit_name=circuit_name, output_base_path=output_base_path, N_parallel=500)"
   ]
  },
  {
   "cell_type": "code",
   "execution_count": null,
   "metadata": {},
   "outputs": [],
   "source": []
  },
  {
   "cell_type": "code",
   "execution_count": 24,
   "metadata": {},
   "outputs": [
    {
     "name": "stdout",
     "output_type": "stream",
     "text": [
      "Config file manip_config__ConnRewireOrder5Hex0EE.json written to ../configs\n",
      "\n",
      "# LAUNCH COMMAND: [DON'T LAUNCH FROM WITHIN ANOTHER SLURM ALLOCATION!]\n",
      "cd ../configs\n",
      "sbatch run_rewiring_parallel.sh \"manip_config__ConnRewireOrder5Hex0EE.json\" \"/gpfs/bbp.cscs.ch/project/proj83/home/pokorny/SimplifiedConnectomeModels/circuits_v2/SSCx-HexO1-Release__ConnRewireOrder5Hex0EE\" 500\n"
     ]
    }
   ],
   "source": [
    "# 5th-order rewiring [CALIBRATION & REWIRING RUNS]\n",
    "manip_config = default_manip_config(circuit_config, seed=3210)\n",
    "\n",
    "# add_manip_to_config(manip_config, flatpos_model_file, prob_model_files[4], delay_model_file, props_model_file, calib_run=True, p_scale=1.0)\n",
    "# manip_config['manip']['name'] = manip_config['manip']['name'] + '__calib-0__'\n",
    "# add_manip_to_config(manip_config, flatpos_model_file, prob_model_files[4], delay_model_file, props_model_file, calib_run=True, p_scale=1.0 * 1.0195708704147093)\n",
    "# manip_config['manip']['name'] = manip_config['manip']['name'] + '__calib-1__'\n",
    "# add_manip_to_config(manip_config, flatpos_model_file, prob_model_files[4], delay_model_file, props_model_file, calib_run=True, p_scale=1.0 * 1.0195708704147093 * 0.9999798709156527)\n",
    "# manip_config['manip']['name'] = manip_config['manip']['name'] + '__calib-2__'\n",
    "# export_manip_config(manip_config, config_paths, print_cmd=True, circuit_name=circuit_name, output_base_path=output_base_path, N_parallel=500, calib_run=True)\n",
    "\n",
    "add_manip_to_config(manip_config, flatpos_model_file, prob_model_files[4], delay_model_file, props_model_file, calib_run=False, p_scale=1.0195503473866605)  # OPTIMUM\n",
    "export_manip_config(manip_config, config_path, print_cmd=True, circuit_name=circuit_name, output_base_path=output_base_path, N_parallel=500)"
   ]
  },
  {
   "cell_type": "code",
   "execution_count": null,
   "metadata": {},
   "outputs": [],
   "source": []
  },
  {
   "cell_type": "markdown",
   "metadata": {},
   "source": [
    "---\n",
    "## Matching number of connections\n",
    "\n",
    "<u>Procedure</u>:\n",
    "1. Initialize scaling factor `p_scale = 1.0`\n",
    "2. Run calibration (evaulation) run with `p_scale`\n",
    "3. Check connection counts from data logs and compute new scaling factor `p_scale'`\n",
    "4. Adjust scaling factor `p_scale = p_scale * p_scale'`\n",
    "5. Repeat steps 2. to 5. until convergence$^1$ (or oscillation)\n",
    "6. Run actual rewiring with converged `p_scale` (or closest value, in case of oscillation)\n",
    "\n",
    "$^1$Convergence ... Number of connections match exactly"
   ]
  },
  {
   "cell_type": "markdown",
   "metadata": {},
   "source": [
    "### Check connection counts and adjust scaling factor\n",
    "\n",
    "ℹ️ Set log type and file path below pointing to the main log file of the respective estimation run"
   ]
  },
  {
   "cell_type": "code",
   "execution_count": 71,
   "metadata": {},
   "outputs": [
    {
     "name": "stderr",
     "output_type": "stream",
     "text": [
      "Collecting log files: 100%|██████████| 500/500 [00:10<00:00, 49.19it/s]"
     ]
    },
    {
     "name": "stdout",
     "output_type": "stream",
     "text": [
      "Non-empty splits: 454/500\n",
      "\n",
      "<ACTUAL REWIRED INSTANCE>\n",
      "Overall: #Conns_orig = 82691527, #Conns_rewired = 82691527, DIFF = 0 (0.00%)\n",
      "Within wiring target: #Conns_orig = 7203362, #Conns_rewired = 7203362, DIFF = 0 (0.00%)\n",
      "Deviation from average prediction of ingoing #conns of 26787 post-neurons: MIN = 0, MAX = 0, #MISMATCH = 0, OVERALL #Conn DIFF = 0\n",
      "\n",
      "<AVERAGE PREDICTION>\n",
      "Overall: #Conns_orig = 82691527, #Conns_predicted = 82691527, DIFF = 0 (0.00%)\n",
      "Within wiring target: #Conns_orig = 7203362, #Conns_predicted = 7203362, DIFF = 0 (0.00%)\n",
      "Probability scaling p_scale = 7203362 / 7203362 = 1.0\n"
     ]
    },
    {
     "name": "stderr",
     "output_type": "stream",
     "text": [
      "\n"
     ]
    }
   ],
   "source": [
    "# Estimate global probability scaling factor for matching #connections (from log file of estimation or actual rewiring run)\n",
    "log_type = 'Rewiring' # 'Rewiring'...actual rewiring, 'Estimation'...estimation run\n",
    "N_split = 500\n",
    "\n",
    "# 1st-order rewiring\n",
    "# main_log_file = f'{output_base_path}/SSCx-HexO1-Release__ConnRewireOrder1Hex0EE__calib-0__/logs/connectome_manipulation_2023-08-25_12h24.log'  # DIFF = 2341 (0.03% rel. to wiring target) => OPTIMUM\n",
    "# main_log_file = f'{output_base_path}/SSCx-HexO1-Release__ConnRewireOrder1Hex0EE__calib-1__/logs/connectome_manipulation_2023-08-25_14h01.log'  # DIFF = 2341 (0.03% rel. to wiring target)\n",
    "# main_log_file = f'{output_base_path}/SSCx-HexO1-Release__ConnRewireOrder1Hex0EE__calib-2__/logs/connectome_manipulation_2023-08-25_14h21.log'  # DIFF = 2341 (0.03% rel. to wiring target)\n",
    "# main_log_file = f'{output_base_path}/SSCx-HexO1-Release__ConnRewireOrder1Hex0EE__calib-3__/logs/connectome_manipulation_2023-08-25_14h52.log'  # DIFF = 2341 (0.03% rel. to wiring target)\n",
    "# main_log_file = f'{output_base_path}/SSCx-HexO1-Release__ConnRewireOrder1Hex0EE__calib-4__/logs/connectome_manipulation_2023-08-25_15h02.log'  # DIFF = 2341 (0.03% rel. to wiring target)\n",
    "# main_log_file = f'{output_base_path}/SSCx-HexO1-Release__ConnRewireOrder1Hex0EE__calib-5__/logs/connectome_manipulation_2023-08-25_16h04.log'  # DIFF = -24446 (-0.34% rel. to wiring target)\n",
    "# main_log_file = f'{output_base_path}/SSCx-HexO1-Release__ConnRewireOrder1Hex0EE__calib-6__/logs/connectome_manipulation_2023-08-25_16h23.log'  # DIFF = 2341 (0.03% rel. to wiring target) => OSCILLATING\n",
    "# p_scales = [1.0, 0.9996751184443766, 0.9996751184443766, 0.9996751184443766, 0.9996751184443766, 0.9996751184443766, 1.003405249483348, 0.9996751184443766]\n",
    "# p_scale_opt = np.prod(p_scales[:1]) # = 1.0\n",
    "# main_log_file = f'{output_base_path}/SSCx-HexO1-Release__ConnRewireOrder1Hex0EE/logs/connectome_manipulation_2023-08-25_18h01.log'  # DIFF = 2341 (0.03% rel. to wiring target) => ACTUAL REWIRING RUN\n",
    "\n",
    "# 2nd-order rewiring\n",
    "# main_log_file = f'{output_base_path}/SSCx-HexO1-Release__ConnRewireOrder2Hex0EE__calib-0__/logs/connectome_manipulation_2023-08-25_15h55.log'  # DIFF = -31900 (-0.44% rel. to wiring target)\n",
    "# main_log_file = f'{output_base_path}/SSCx-HexO1-Release__ConnRewireOrder2Hex0EE__calib-1__/logs/connectome_manipulation_2023-08-25_16h13.log'  # DIFF = 55 (0.00% rel. to wiring target)\n",
    "# main_log_file = f'{output_base_path}/SSCx-HexO1-Release__ConnRewireOrder2Hex0EE__calib-2__/logs/connectome_manipulation_2023-08-25_16h25.log'  # DIFF = -11 (-0.00% rel. to wiring target)\n",
    "# main_log_file = f'{output_base_path}/SSCx-HexO1-Release__ConnRewireOrder2Hex0EE__calib-3__/logs/connectome_manipulation_2023-08-25_16h38.log'  # DIFF = -3 (-0.00% rel. to wiring target)\n",
    "# main_log_file = f'{output_base_path}/SSCx-HexO1-Release__ConnRewireOrder2Hex0EE__calib-4__/logs/connectome_manipulation_2023-08-25_17h59.log'  # DIFF = -1 (-0.00% rel. to wiring target) => OPTIMUM\n",
    "# main_log_file = f'{output_base_path}/SSCx-HexO1-Release__ConnRewireOrder2Hex0EE__calib-5__/logs/connectome_manipulation_2023-08-28_10h08.log'  # DIFF = 2 (0.00% rel. to wiring target)\n",
    "# main_log_file = f'{output_base_path}/SSCx-HexO1-Release__ConnRewireOrder2Hex0EE__calib-6__/logs/connectome_manipulation_2023-08-28_10h15.log'  # DIFF = -2 (-0.00% rel. to wiring target)\n",
    "# main_log_file = f'{output_base_path}/SSCx-HexO1-Release__ConnRewireOrder2Hex0EE__calib-7__/logs/connectome_manipulation_2023-08-28_10h21.log'  # DIFF = 2 (0.00% rel. to wiring target) => OSCILLATING\n",
    "# p_scales = [1.0, 1.0044481864367405, 0.9999923647346808, 1.0000015270670553, 1.0000004164723708, 1.0000001388240851, 0.9999997223519456, 1.0000002776482086, 0.9999997223519456]\n",
    "# p_scale_opt = np.prod(p_scales[:5]) # = 1.0044424693787228\n",
    "# main_log_file = f'{output_base_path}/SSCx-HexO1-Release__ConnRewireOrder2Hex0EE/logs/connectome_manipulation_2023-08-28_10h28.log'  # DIFF = -1 (-0.00% rel. to wiring target) => ACTUAL REWIRING RUN\n",
    "\n",
    "# 3rd-order rewiring\n",
    "# main_log_file = f'{output_base_path}/SSCx-HexO1-Release__ConnRewireOrder3Hex0EE__calib-0__/logs/connectome_manipulation_2023-08-28_10h22.log'  # DIFF = -33159 (-0.46% rel. to wiring target)\n",
    "# main_log_file = f'{output_base_path}/SSCx-HexO1-Release__ConnRewireOrder3Hex0EE__calib-1__/logs/connectome_manipulation_2023-08-28_10h36.log'  # DIFF = -38 (-0.00% rel. to wiring target)\n",
    "# main_log_file = f'{output_base_path}/SSCx-HexO1-Release__ConnRewireOrder3Hex0EE__calib-2__/logs/connectome_manipulation_2023-08-28_10h40.log'  # DIFF = -4 (-0.00% rel. to wiring target)\n",
    "# main_log_file = f'{output_base_path}/SSCx-HexO1-Release__ConnRewireOrder3Hex0EE__calib-3__/logs/connectome_manipulation_2023-08-28_10h46.log'  # DIFF = 2 (0.00% rel. to wiring target) => OPTIMUM\n",
    "# main_log_file = f'{output_base_path}/SSCx-HexO1-Release__ConnRewireOrder3Hex0EE__calib-4__/logs/connectome_manipulation_2023-08-28_10h51.log'  # DIFF = -4 (-0.00% rel. to wiring target) => OSCILLATING\n",
    "# p_scales = [1.0, 1.004624555260151, 1.000005275342328, 1.0000005552965714, 0.9999997223519456, 1.0000005552965714]\n",
    "# p_scale_opt = np.prod(p_scales[:4]) # = 1.004630412866105\n",
    "# main_log_file = f'{output_base_path}/SSCx-HexO1-Release__ConnRewireOrder3Hex0EE/logs/connectome_manipulation_2023-08-28_10h56.log'  # DIFF = 2 (0.00% rel. to wiring target) => ACTUAL REWIRING RUN\n",
    "\n",
    "# 4th-order rewiring\n",
    "# main_log_file = f'{output_base_path}/SSCx-HexO1-Release__ConnRewireOrder4Hex0EE__calib-0__/logs/connectome_manipulation_2023-08-28_10h41.log'  # DIFF = -146659 (-2.04% rel. to wiring target)\n",
    "# main_log_file = f'{output_base_path}/SSCx-HexO1-Release__ConnRewireOrder4Hex0EE__calib-1__/logs/connectome_manipulation_2023-08-28_10h48.log'  # DIFF = -109 (-0.00% rel. to wiring target)\n",
    "# main_log_file = f'{output_base_path}/SSCx-HexO1-Release__ConnRewireOrder4Hex0EE__calib-2__/logs/connectome_manipulation_2023-08-28_10h52.log'  # DIFF = 9 (0.00% rel. to wiring target)\n",
    "# main_log_file = f'{output_base_path}/SSCx-HexO1-Release__ConnRewireOrder4Hex0EE__calib-3__/logs/connectome_manipulation_2023-08-28_10h58.log'  # DIFF = -1 (-0.00% rel. to wiring target)\n",
    "# main_log_file = f'{output_base_path}/SSCx-HexO1-Release__ConnRewireOrder4Hex0EE__calib-4__/logs/connectome_manipulation_2023-08-28_11h04.log'  # DIFF = -1 (-0.00% rel. to wiring target)\n",
    "# main_log_file = f'{output_base_path}/SSCx-HexO1-Release__ConnRewireOrder4Hex0EE__calib-5__/logs/connectome_manipulation_2023-08-28_11h11.log'  # DIFF = 0 (0.00% rel. to wiring target) => OPTIMUM (CONVERGED)\n",
    "# p_scales = [1.0, 1.0207829350335418, 1.0000151320521438, 0.9999987505849692, 1.0000001388240851, 1.0000001388240851, 1.0]\n",
    "# p_scale_opt = np.prod(p_scales[:6]) # = 1.0207973895957692\n",
    "main_log_file = f'{output_base_path}/SSCx-HexO1-Release__ConnRewireOrder4Hex0EE/logs/connectome_manipulation_2023-08-28_11h21.log'  # DIFF = 0 (0.00% rel. to wiring target) => ACTUAL REWIRING RUN\n",
    "\n",
    "# 5th-order rewiring\n",
    "# main_log_file = f'{output_base_path}/SSCx-HexO1-Release__ConnRewireOrder5Hex0EE__calib-0__/logs/connectome_manipulation_2023-08-28_10h41.log'  # DIFF = -138270 (-1.92% rel. to wiring target)\n",
    "# main_log_file = f'{output_base_path}/SSCx-HexO1-Release__ConnRewireOrder5Hex0EE__calib-1__/logs/connectome_manipulation_2023-08-28_10h49.log'  # DIFF = 145 (0.00% rel. to wiring target)\n",
    "# main_log_file = f'{output_base_path}/SSCx-HexO1-Release__ConnRewireOrder5Hex0EE__calib-2__/logs/connectome_manipulation_2023-08-28_10h54.log'  # DIFF = 0 (0.00% rel. to wiring target) => OPTIMUM (CONVERGED)\n",
    "# p_scales = [1.0, 1.0195708704147093, 0.9999798709156527, 1.0]\n",
    "# p_scale_opt = np.prod(p_scales[:3]) # = 1.0195503473866605\n",
    "# main_log_file = f'{output_base_path}/SSCx-HexO1-Release__ConnRewireOrder5Hex0EE/logs/connectome_manipulation_2023-08-28_11h02.log'  # DIFF = xxx (xxx% rel. to wiring target) => ACTUAL REWIRING RUN\n",
    "\n",
    "log_path, log_fn = os.path.split(main_log_file)  # Main log path/filename\n",
    "log_date = os.path.splitext(log_fn)[0].split('connectome_manipulation_')[1]\n",
    "\n",
    "log_folders = [os.path.join(log_path, d) for d in os.listdir(log_path) if os.path.isdir(os.path.join(log_path, d))]\n",
    "if log_type == 'Rewiring':  # In rewiring run, an ..Indices.. data log must always exist for all splits (so we can check for missing splits)\n",
    "    data_log_splits = [f'{log_date}.{log_type}Indices_{i + 1}_{N_split}.npz' for i in range(N_split)]\n",
    "else:  # ... whereas in estimation run, a ..Stats.. data log must always exist for all splits (so we can check for missing splits)\n",
    "    data_log_splits = [f'{log_date}.{log_type}Stats_{i + 1}_{N_split}.npz' for i in range(N_split)]\n",
    "\n",
    "conn_count_orig_all = 0 # Overall input connection count\n",
    "conn_count_pred_all = 0 # Overall output connection count after rewiring (average prediction)\n",
    "conn_count_actu_all = 0 # Overall output connection count after rewiring (actual value)\n",
    "conn_count_orig_sel = 0 # Input connection count within selected rewiring target\n",
    "conn_count_pred_sel = 0 # Output connection count within selected rewiring target after rewiring (average prediction)\n",
    "conn_count_actu_sel = 0 # Output connection count within selected rewiring target after rewiring (actual value)\n",
    "diff_from_avg = []\n",
    "split_count = 0\n",
    "for split_name in tqdm.tqdm(data_log_splits, desc=\"Collecting log files\"):\n",
    "    # Search for log file in all log folders\n",
    "    folder_name = None\n",
    "    file_name = None\n",
    "    for fld in log_folders:\n",
    "        tmp_name = [fn for fn in os.listdir(fld) if split_name in fn]\n",
    "        assert len(tmp_name) <= 1, 'ERROR: Multiple files found in current folder!'\n",
    "        if len(tmp_name) == 1:  # Match\n",
    "            assert folder_name is None, 'ERROR: Folder not unique!'\n",
    "            assert file_name is None, 'ERROR: File not unique!'\n",
    "            folder_name = fld\n",
    "            file_name = tmp_name[0]\n",
    "    assert folder_name is not None and file_name is not None, f'ERROR: Log file ..{split_name} not found!'\n",
    "\n",
    "    # Read log file\n",
    "    file_name = file_name.replace(\"Indices\", \"Stats\")  # In any case, the data log to load is the ..Stats.. one, if existing\n",
    "    dlog = os.path.join(folder_name, file_name)\n",
    "    if not os.path.exists(dlog):\n",
    "        continue\n",
    "    split_count += 1\n",
    "    stats_dict = np.load(dlog)\n",
    "    conn_count_orig_sel += np.sum(stats_dict['input_conn_count_sel'])\n",
    "    conn_count_pred_sel += np.sum(stats_dict['output_conn_count_sel_avg'])\n",
    "    conn_count_orig_all += np.sum(stats_dict.get('input_conn_count', 0))\n",
    "    conn_count_pred_all += np.sum(stats_dict['output_conn_count_sel_avg']) + np.sum(stats_dict.get('input_conn_count', 0)) - np.sum(stats_dict['input_conn_count_sel'])\n",
    "    if log_type == 'Rewiring':\n",
    "        conn_count_actu_sel += np.sum(stats_dict['output_conn_count_sel'])\n",
    "        assert stats_dict['output_conn_count'] == np.sum(stats_dict['output_conn_count_sel']) + np.sum(stats_dict['input_conn_count']) - np.sum(stats_dict['input_conn_count_sel'])\n",
    "        conn_count_actu_all += stats_dict['output_conn_count']\n",
    "        diff_from_avg += list(stats_dict['output_conn_count_sel'] - stats_dict['output_conn_count_sel_avg'])\n",
    "\n",
    "print(f'Non-empty splits: {split_count}/{N_split}\\n')\n",
    "\n",
    "if log_type == 'Rewiring':\n",
    "    print('<ACTUAL REWIRED INSTANCE>')\n",
    "    print(f'Overall: #Conns_orig = {conn_count_orig_all}, #Conns_rewired = {conn_count_actu_all}, DIFF = {conn_count_actu_all - conn_count_orig_all} ({100.0 * (conn_count_actu_all - conn_count_orig_all) / conn_count_orig_all:.2f}%)')\n",
    "    print(f'Within wiring target: #Conns_orig = {conn_count_orig_sel}, #Conns_rewired = {conn_count_actu_sel}, DIFF = {conn_count_actu_sel - conn_count_orig_sel} ({100.0 * (conn_count_actu_sel - conn_count_orig_sel) / conn_count_orig_sel:.2f}%)')\n",
    "    print(f'Deviation from average prediction of ingoing #conns of {len(diff_from_avg)} post-neurons: MIN = {np.min(diff_from_avg)}, MAX = {np.max(diff_from_avg)}, #MISMATCH = {np.sum(np.array(diff_from_avg) != 0)}, OVERALL #Conn DIFF = {np.sum(diff_from_avg)}')\n",
    "    print()\n",
    "\n",
    "p_scale = conn_count_orig_sel / conn_count_pred_sel\n",
    "print('<AVERAGE PREDICTION>')\n",
    "print(f'Overall: #Conns_orig = {conn_count_orig_all}, #Conns_predicted = {conn_count_pred_all}, DIFF = {conn_count_pred_all - conn_count_orig_all} ({100.0 * (conn_count_pred_all - conn_count_orig_all) / conn_count_orig_all:.2f}%)')\n",
    "print(f'Within wiring target: #Conns_orig = {conn_count_orig_sel}, #Conns_predicted = {conn_count_pred_sel}, DIFF = {conn_count_pred_sel - conn_count_orig_sel} ({100.0 * (conn_count_pred_sel - conn_count_orig_sel) / conn_count_orig_sel:.2f}%)')\n",
    "print(f'Probability scaling p_scale = {conn_count_orig_sel} / {conn_count_pred_sel} = {p_scale}')"
   ]
  },
  {
   "cell_type": "code",
   "execution_count": null,
   "metadata": {},
   "outputs": [],
   "source": []
  },
  {
   "cell_type": "markdown",
   "metadata": {},
   "source": [
    "---\n",
    "After successful rewiring: The following section contains a manual collection of connection and synapse counts from the final log files\n",
    "\n",
    "---"
   ]
  },
  {
   "cell_type": "code",
   "execution_count": 86,
   "metadata": {},
   "outputs": [
    {
     "name": "stdout",
     "output_type": "stream",
     "text": [
      "Order 1:\n",
      "  Diff total: -1.13% (402518201 of 407127134)\n",
      "  Diff hex0EE: -14.77% (26603307 of 31212240)\n",
      "Order 2:\n",
      "  Diff total: -0.48% (405187752 of 407127134)\n",
      "  Diff hex0EE: -6.21% (29272858 of 31212240)\n",
      "Order 3:\n",
      "  Diff total: -0.26% (406088376 of 407127134)\n",
      "  Diff hex0EE: -3.33% (30173482 of 31212240)\n",
      "Order 4:\n",
      "  Diff total: -0.22% (406247297 of 407127134)\n",
      "  Diff hex0EE: -2.82% (30332403 of 31212240)\n",
      "Order 5:\n",
      "  Diff total: -0.01% (407068355 of 407127134)\n",
      "  Diff hex0EE: -0.19% (31153461 of 31212240)\n"
     ]
    }
   ],
   "source": [
    "# Manually collecting synapse counts from log files and computing percentages\n",
    "syn_orig_tot = 407127134\n",
    "syn_orig_h0 = 31212240\n",
    "syn_rew_tot = [402518201, 405187752, 406088376, 406247297, 407068355]\n",
    "syn_diff = [-4608933, -1939382, -1038758, -879837, -58779]\n",
    "for idx, (cnt, diff) in enumerate(zip(syn_rew_tot, syn_diff)):\n",
    "    pct_tot = 100.0 * (cnt - syn_orig_tot) / syn_orig_tot\n",
    "    syn_rew_h0 = syn_orig_h0 + diff\n",
    "    pct_h0 = 100.0 * (syn_rew_h0 - syn_orig_h0) / syn_orig_h0\n",
    "    print(f\"Order {idx + 1}:\")\n",
    "    print(f\"  Diff total: {pct_tot:.2f}% ({cnt} of {syn_orig_tot})\")\n",
    "    print(f\"  Diff hex0EE: {pct_h0:.2f}% ({syn_rew_h0} of {syn_orig_h0})\")"
   ]
  },
  {
   "cell_type": "code",
   "execution_count": null,
   "metadata": {},
   "outputs": [],
   "source": []
  },
  {
   "cell_type": "markdown",
   "metadata": {},
   "source": [
    "### Results summary table\n",
    "\n",
    "|Connectome|&#124;|Total conns|Diff|Pct   |&#124;|Total syns|Diff    |Pct   |&#124;|Hex0EE conns|Diff|Pct   |&#124;|Hex0EE syns|Diff    |Pct    |&#124;|Calib runs|Opt $p_{scale}$   |\n",
    "|----------|:----:|----------:|---:|-----:|:----:|---------:|-------:|-----:|:----:|-----------:|---:|-----:|:----:|----------:|-------:|------:|:----:|----------|------------------|\n",
    "|Original  |&#124;|82691527   |-   |-     |&#124;|407127134 |-       |-     |&#124;|7203362     |-   |-     |&#124;|31212240   |-       |-      |&#124;|-         |-                 |\n",
    "|1st order |&#124;|82693868   |2341| 0.00%|&#124;|402518201 |-4608933|-1.13%|&#124;|7205703     |2341|0.03% |&#124;|26603307   |-4608933|-14.77%|&#124;|7 (osc)   |1.0               |\n",
    "|2nd order |&#124;|82691526   |-1  |-0.00%|&#124;|405187752 |-1939382|-0.48%|&#124;|7203361     |-1  |-0.00%|&#124;|29272858   |-1939382|-6.21% |&#124;|8 (osc)   |1.0044424693787228|\n",
    "|3rd order |&#124;|82691529   |2   | 0.00%|&#124;|406088376 |-1038758|-0.26%|&#124;|7203364     | 2  | 0.00%|&#124;|30173482   |-1038758|-3.33% |&#124;|5 (osc)   |1.004630412866105 |\n",
    "|4th order |&#124;|82691527   |0   | 0.00%|&#124;|406247297 |-879837 |-0.22%|&#124;|7203362     | 0  | 0.00%|&#124;|30332403   |-879837 |-2.82% |&#124;|6 (conv)  |1.0207973895957692|\n",
    "|5th order |&#124;|82691527   |0   | 0.00%|&#124;|407068355 |-58779  |-0.01%|&#124;|7203362     | 0  | 0.00%|&#124;|31153461   |-58779  |-0.19% |&#124;|3 (conv)  |1.0195503473866605|"
   ]
  },
  {
   "cell_type": "code",
   "execution_count": null,
   "metadata": {},
   "outputs": [],
   "source": []
  }
 ],
 "metadata": {
  "kernelspec": {
   "display_name": "ReWiringKernel",
   "language": "python",
   "name": "rewiringkernel"
  },
  "language_info": {
   "codemirror_mode": {
    "name": "ipython",
    "version": 3
   },
   "file_extension": ".py",
   "mimetype": "text/x-python",
   "name": "python",
   "nbconvert_exporter": "python",
   "pygments_lexer": "ipython3",
   "version": "3.10.8"
  }
 },
 "nbformat": 4,
 "nbformat_minor": 4
}
