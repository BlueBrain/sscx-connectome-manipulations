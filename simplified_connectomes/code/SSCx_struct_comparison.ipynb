{
 "cells": [
  {
   "cell_type": "markdown",
   "metadata": {},
   "source": [
    "```\n",
    "This file is part of sscx-connectome-manipulations.\n",
    "\n",
    "SPDX-License-Identifier: Apache-2.0\n",
    "Copyright (c) 2024 Blue Brain Project/EPFL\n",
    "```"
   ]
  },
  {
   "cell_type": "markdown",
   "metadata": {},
   "source": [
    "# Structural comparison of simplified SSCx connectomes\n",
    "This is an auxiliary notebook for analysing the simplified 1st..5th-order connectomes, which\n",
    "\n",
    " - sets up structural comparator\n",
    " - writes .json config file for running structural comparisons using `sbatch`\n",
    "\n",
    "ℹ️ Part of reproduction of simplified connectomes experiment described in [Pokorny et al. (2024)](https://doi.org/10.1101/2024.05.24.593860)\n",
    "\n",
    "<u>Requirements</u>:\n",
    "- [Connectome-Manipulator](https://github.com/BlueBrain/connectome-manipulator) (Python venv)\n",
    "- [SSCx network model](https://doi.org/10.5281/zenodo.8026353) (=original circuit)\n",
    "- Rewired (simplified) circuits, see `SSCx_rewiring.ipynb` (also available in Zenodo dataset)"
   ]
  },
  {
   "cell_type": "code",
   "execution_count": 1,
   "metadata": {},
   "outputs": [],
   "source": [
    "# Initialization\n",
    "\n",
    "\"\"\" Global imports \"\"\"\n",
    "import json\n",
    "import os\n",
    "\n",
    "\"\"\" Local imports \"\"\"\n",
    "from connectome_manipulator.connectome_comparison import structural_comparator"
   ]
  },
  {
   "cell_type": "code",
   "execution_count": 2,
   "metadata": {},
   "outputs": [],
   "source": [
    "def default_structcomp_config(output_path, base_name, circuit_specs):\n",
    "    \"\"\"Generates a default structural comparator config dict w/o any specific comparison.\"\"\"\n",
    "    assert isinstance(circuit_specs, list) and len(circuit_specs) == 2, 'ERROR: Two circuits required for comparison!'\n",
    "\n",
    "    structcomp_config = {}\n",
    "    structcomp_config['working_dir'] = os.path.join(output_path, base_name)\n",
    "    structcomp_config['out_dir'] = structcomp_config['working_dir']\n",
    "    structcomp_config['circuits'] = {str(i): {'circuit_config': circuit_specs[i]['config'],\n",
    "                                              'circuit_name': circuit_specs[i]['name']} for i in range(2)}\n",
    "    structcomp_config['plot_types'] = []\n",
    "\n",
    "    return structcomp_config\n",
    "\n",
    "def upper_first(name):\n",
    "    return name[0].upper() + name[1:]\n",
    "\n",
    "def syn_class_mapping(sel):\n",
    "    assert sel in [None, 'EE', 'EI', 'IE', 'II'], 'ERROR: Synapse class error!'\n",
    "    cl_map = {'E': 'EXC', 'I': 'INH'}\n",
    "    if sel is None:\n",
    "        return {}, {}\n",
    "    else:\n",
    "        return {'synapse_class': cl_map[sel[0]]}, {'synapse_class': cl_map[sel[1]]}\n",
    "\n",
    "def add_ConnProb_to_config(structcomp_config, group_by, hex_column='hex0', syn_class_sel='EE', skip_empty_groups=False):\n",
    "    \"\"\"Adds \"connection probability\" comparison to structural comparator config.\"\"\"\n",
    "    assert 'plot_types' in structcomp_config, 'ERROR: Plot types missing!'\n",
    "    assert group_by in ['layer', 'mtype'], f'ERROR: Grouping by \"{group_by}\" not supported!'\n",
    "    pre_cl_sel, post_cl_sel = syn_class_mapping(syn_class_sel)\n",
    "    comp_dict = {'name': f'ConnPer{upper_first(group_by)}_{upper_first(hex_column)}{\"\" if syn_class_sel is None else syn_class_sel}',\n",
    "                 'fct': {'source': 'connectivity',\n",
    "                         'kwargs': {'group_by': group_by,\n",
    "                                    'skip_empty_groups': skip_empty_groups,\n",
    "                                    'sel_src': {'node_set': hex_column, **pre_cl_sel},\n",
    "                                    'sel_dest': {'node_set': hex_column, **post_cl_sel}}},\n",
    "                         'res_sel': ['nsyn_conn', 'conn_prob'],\n",
    "                         'range_prctile': 100,\n",
    "                         'fig_size': (11, 3),\n",
    "                         'fig_file': {'format': 'png', 'dpi': 600}}\n",
    "    structcomp_config['plot_types'].append(comp_dict)\n",
    "\n",
    "def add_MeanProps_to_config(structcomp_config, props_list, group_by, hex_column='hex0', syn_class_sel='EE', skip_empty_groups=False):\n",
    "    \"\"\"Adds \"connection properties (mean) per layer\" comparison to structural comparator config.\"\"\"\n",
    "    assert 'plot_types' in structcomp_config, 'ERROR: Plot types missing!'\n",
    "    assert isinstance(props_list, list) and len(props_list) > 0, \"ERROR: Non-empty list of properties required!\"\n",
    "    assert group_by in ['layer', 'mtype'], f'ERROR: Grouping by \"{group_by}\" not supported!'\n",
    "    pre_cl_sel, post_cl_sel = syn_class_mapping(syn_class_sel)\n",
    "    comp_dict = {'name': f'PropsPer{upper_first(group_by)}_{upper_first(hex_column)}{\"\" if syn_class_sel is None else syn_class_sel}',\n",
    "                         'fct': {'source': 'properties',\n",
    "                                 'kwargs': {'group_by': group_by,\n",
    "                                            'skip_empty_groups': skip_empty_groups,\n",
    "                                            'sel_src': {'node_set': hex_column, **pre_cl_sel},\n",
    "                                            'sel_dest': {'node_set': hex_column, **post_cl_sel},\n",
    "                                            'fct': 'np.mean'}},\n",
    "                                 'res_sel': props_list,\n",
    "                                 'range_prctile': 100,\n",
    "                                 'fig_size': (11, 3),\n",
    "                                 'fig_file': {'format': 'png', 'dpi': 600}}\n",
    "    structcomp_config['plot_types'].append(comp_dict)\n",
    "\n",
    "def add_StdProps_to_config(structcomp_config, props_list, group_by, hex_column='hex0', syn_class_sel='EE', skip_empty_groups=False):\n",
    "    \"\"\"Adds \"connection properties (std) per layer\" comparison to structural comparator config.\"\"\"\n",
    "    assert 'plot_types' in structcomp_config, 'ERROR: Plot types missing!'\n",
    "    assert isinstance(props_list, list) and len(props_list) > 0, \"ERROR: Non-empty list of properties required!\"\n",
    "    assert group_by in ['layer', 'mtype'], f'ERROR: Grouping by \"{group_by}\" not supported!'\n",
    "    pre_cl_sel, post_cl_sel = syn_class_mapping(syn_class_sel)\n",
    "    comp_dict = {'name': f'PropsStdPer{upper_first(group_by)}_{upper_first(hex_column)}{\"\" if syn_class_sel is None else syn_class_sel}',\n",
    "                         'fct': {'source': 'properties',\n",
    "                                 'kwargs': {'group_by': group_by,\n",
    "                                            'skip_empty_groups': skip_empty_groups,\n",
    "                                            'sel_src': {'node_set': hex_column, **pre_cl_sel},\n",
    "                                            'sel_dest': {'node_set': hex_column, **post_cl_sel},\n",
    "                                            'fct': 'np.std'}},\n",
    "                                 'res_sel': props_list,\n",
    "                                 'range_prctile': 100,\n",
    "                                 'fig_size': (11, 3),\n",
    "                                 'fig_file': {'format': 'png', 'dpi': 600}}\n",
    "    structcomp_config['plot_types'].append(comp_dict)\n",
    "\n",
    "def add_AdjMat_to_config(structcomp_config, hex_column='hex0', syn_class_sel='EE'):\n",
    "    \"\"\"Adds \"adjacency matrix\" comparison to structural comparator config.\"\"\"\n",
    "    assert 'plot_types' in structcomp_config, 'ERROR: Plot types missing!'\n",
    "    pre_cl_sel, post_cl_sel = syn_class_mapping(syn_class_sel)\n",
    "    comp_dict = {'name': f'Adjacency_{upper_first(hex_column)}{\"\" if syn_class_sel is None else syn_class_sel}',\n",
    "                         'fct': {'source': 'adjacency',\n",
    "                                 'kwargs': {'sel_src': {'node_set': hex_column, **pre_cl_sel},\n",
    "                                            'sel_dest': {'node_set': hex_column, **post_cl_sel}}},\n",
    "                                 'res_sel': ['adj', 'adj_cnt'],\n",
    "                                 'range_prctile': 95,\n",
    "                                 'fig_size': (11, 3),\n",
    "                                 'fig_file': {'format': 'png', 'dpi': 600}}\n",
    "    structcomp_config['plot_types'].append(comp_dict)\n",
    "\n",
    "def export_structcomp_config(structcomp_config, config_path, config_name=''):\n",
    "    \"\"\"Writes structural comparator config to .json config file(s).\"\"\"\n",
    "    if not isinstance(config_path, list):\n",
    "        config_path = [config_path]\n",
    "\n",
    "    base_name = os.path.split(structcomp_config['working_dir'])[-1]\n",
    "    fn = f'structcomp_config{config_name}__{base_name}__{structcomp_config[\"circuits\"][\"0\"][\"circuit_name\"]}_vs_{structcomp_config[\"circuits\"][\"1\"][\"circuit_name\"]}.json'\n",
    "    for cpath in config_path:\n",
    "        with open(os.path.join(cpath, fn), 'w') as f:\n",
    "            json.dump(structcomp_config, f, indent=2)\n",
    "        print(f\"Config file {fn} written to {cpath}\")\n",
    "\n",
    "def print_launch_cmd(config_path, config_fn, force_recomp=False):\n",
    "    if force_recomp:\n",
    "        run_cmd = f\"sbatch run_struct_comparison.sh {config_fn} --force-recomp-circ1 --force-recomp-circ2\"\n",
    "    else:\n",
    "        run_cmd = f\"sbatch run_struct_comparison.sh {config_fn}\"\n",
    "    print(f\"# LAUNCH COMMAND [CHECK ALLOCATION TIME!!]:\")\n",
    "    print(f\"cd {config_path}\")\n",
    "    print(run_cmd)\n",
    "\n",
    "def load_config_from_file(path, fn):\n",
    "    config_file = os.path.join(path, fn)\n",
    "    with open(config_file, 'r') as f:\n",
    "        structcomp_config = json.load(f)\n",
    "    return structcomp_config"
   ]
  },
  {
   "cell_type": "code",
   "execution_count": null,
   "metadata": {},
   "outputs": [],
   "source": []
  },
  {
   "cell_type": "markdown",
   "metadata": {},
   "source": [
    "### Selection of circuits to compare\n",
    "\n",
    "ℹ️ Set paths below pointing to the original as well as rewired (simplified) circuits"
   ]
  },
  {
   "cell_type": "code",
   "execution_count": 3,
   "metadata": {},
   "outputs": [],
   "source": [
    "# Circuit base name\n",
    "circuit_name_base = 'SSCx-HexO1-Release'\n",
    "\n",
    "# Original circuit\n",
    "circuit_name_orig = 'Orig'\n",
    "circuit_config_orig = '/gpfs/bbp.cscs.ch/project/proj83/jira-tickets/NSETM-1948-extract-hex-O1/data/O1_data/circuit_config.json' # SONATA config (.json)\n",
    "circuit_spec_orig = {'name': circuit_name_orig, 'config': circuit_config_orig}\n",
    "\n",
    "# Simplified circuits\n",
    "order_list = [1, 2, 3, 4, 5]\n",
    "circuit_names_manip = [f'Order-{_ord}' for _ord in order_list]\n",
    "circuit_configs_manip = [f'/gpfs/bbp.cscs.ch/data/scratch/proj83/home/pokorny/Zenodo/SSCx-connectome-manipulation-data/simplified_connectomes/circuits/{circuit_name_base}__ConnRewireOrder{_ord}Hex0EE/circuit_config.json' for _ord in order_list]\n",
    "circuit_specs_manip = [{'name': nm, 'config': cfg} for nm, cfg in zip(circuit_names_manip, circuit_configs_manip)]"
   ]
  },
  {
   "cell_type": "code",
   "execution_count": null,
   "metadata": {},
   "outputs": [],
   "source": []
  },
  {
   "cell_type": "markdown",
   "metadata": {},
   "source": [
    "### Configuration of structural comparison\n",
    "\n",
    "ℹ️ Set config and output paths below"
   ]
  },
  {
   "cell_type": "code",
   "execution_count": 5,
   "metadata": {},
   "outputs": [],
   "source": [
    "# Output paths\n",
    "output_path = '/gpfs/bbp.cscs.ch/data/scratch/proj83/home/pokorny/Zenodo/SSCx-connectome-manipulation-data/simplified_connectomes/structural_comparator/'\n",
    "config_path = '../configs'  # Must exist!\n",
    "\n",
    "# Selection of column & synapse class\n",
    "hex_column = 'hex0'  # hex0...central column\n",
    "config_name = ''  # Config name specified (default: '')\n",
    "\n",
    "# Selection of physiological properties to compare\n",
    "props_list = ['conductance', 'decay_time', 'delay', 'depression_time', 'facilitation_time', 'n_rrp_vesicles', 'syn_type_id', 'u_syn']"
   ]
  },
  {
   "cell_type": "code",
   "execution_count": null,
   "metadata": {},
   "outputs": [],
   "source": []
  },
  {
   "cell_type": "code",
   "execution_count": 7,
   "metadata": {},
   "outputs": [
    {
     "name": "stdout",
     "output_type": "stream",
     "text": [
      "Config file structcomp_config__SSCx-HexO1-Release__Orig_vs_Order-1.json written to ../configs\n",
      "Config file structcomp_config__SSCx-HexO1-Release__Orig_vs_Order-2.json written to ../configs\n",
      "Config file structcomp_config__SSCx-HexO1-Release__Orig_vs_Order-3.json written to ../configs\n",
      "Config file structcomp_config__SSCx-HexO1-Release__Orig_vs_Order-4.json written to ../configs\n",
      "Config file structcomp_config__SSCx-HexO1-Release__Orig_vs_Order-5.json written to ../configs\n"
     ]
    }
   ],
   "source": [
    "# List of structural comparisons of original vs. simplified connectomes\n",
    "# Notes: syn_class_sel ... Must be one of [None, 'EE', 'EI', 'IE', 'II']\n",
    "\n",
    "for idx in range(len(order_list)):\n",
    "    structcomp_config = default_structcomp_config(output_path, circuit_name_base, [circuit_spec_orig, circuit_specs_manip[idx]])\n",
    "    add_ConnProb_to_config(structcomp_config, group_by='layer', hex_column=hex_column, syn_class_sel='EE', skip_empty_groups=False)\n",
    "    add_ConnProb_to_config(structcomp_config, group_by='mtype', hex_column=hex_column, syn_class_sel='EE', skip_empty_groups=True)\n",
    "    add_MeanProps_to_config(structcomp_config, props_list=props_list, group_by='mtype', hex_column=hex_column, syn_class_sel='EE', skip_empty_groups=True)\n",
    "    add_StdProps_to_config(structcomp_config, props_list=props_list, group_by='mtype', hex_column=hex_column, syn_class_sel='EE', skip_empty_groups=True)\n",
    "    add_AdjMat_to_config(structcomp_config, hex_column=hex_column, syn_class_sel=None)\n",
    "    export_structcomp_config(structcomp_config, config_path, config_name)"
   ]
  },
  {
   "cell_type": "code",
   "execution_count": null,
   "metadata": {},
   "outputs": [],
   "source": []
  },
  {
   "cell_type": "markdown",
   "metadata": {},
   "source": [
    "### Run structural comparison\n",
    "\n",
    "ℹ️ Configure the SLURM script `run_struct_comparison.sh` according to the used computation system and run below LAUNCH COMMANDS for extracting/computing the comparison results\n",
    "\n",
    "ℹ️ All structural comparison results are also contained in the Zenodo dataset"
   ]
  },
  {
   "cell_type": "code",
   "execution_count": 9,
   "metadata": {},
   "outputs": [
    {
     "name": "stdout",
     "output_type": "stream",
     "text": [
      "# LAUNCH COMMAND [CHECK ALLOCATION TIME!!]:\n",
      "cd ../configs\n",
      "sbatch run_struct_comparison.sh structcomp_config__SSCx-HexO1-Release__Orig_vs_Order-1.json\n",
      "\n",
      "WAIT UNTIL \"ORIG\" RESULTS ARE READY BEFORE LAUNCHING THE OTHERS!\n",
      "\n",
      "# LAUNCH COMMAND [CHECK ALLOCATION TIME!!]:\n",
      "cd ../configs\n",
      "sbatch run_struct_comparison.sh structcomp_config__SSCx-HexO1-Release__Orig_vs_Order-2.json\n",
      "\n",
      "# LAUNCH COMMAND [CHECK ALLOCATION TIME!!]:\n",
      "cd ../configs\n",
      "sbatch run_struct_comparison.sh structcomp_config__SSCx-HexO1-Release__Orig_vs_Order-3.json\n",
      "\n",
      "# LAUNCH COMMAND [CHECK ALLOCATION TIME!!]:\n",
      "cd ../configs\n",
      "sbatch run_struct_comparison.sh structcomp_config__SSCx-HexO1-Release__Orig_vs_Order-4.json\n",
      "\n",
      "# LAUNCH COMMAND [CHECK ALLOCATION TIME!!]:\n",
      "cd ../configs\n",
      "sbatch run_struct_comparison.sh structcomp_config__SSCx-HexO1-Release__Orig_vs_Order-5.json\n",
      "\n"
     ]
    }
   ],
   "source": [
    "for _ord in order_list:\n",
    "    print_launch_cmd(config_path, f'structcomp_config{config_name}__SSCx-HexO1-Release__Orig_vs_Order-{_ord}.json', force_recomp=False)\n",
    "    print()\n",
    "    if _ord == order_list[0]:\n",
    "        print('WAIT UNTIL \"ORIG\" RESULTS ARE READY BEFORE LAUNCHING THE OTHERS!')\n",
    "        print()"
   ]
  },
  {
   "cell_type": "code",
   "execution_count": null,
   "metadata": {},
   "outputs": [],
   "source": []
  },
  {
   "cell_type": "markdown",
   "metadata": {},
   "source": [
    "---\n",
    "After successful comparison runs: The comparison results/figures are available in the specified output folders\n",
    "\n",
    "---"
   ]
  },
  {
   "cell_type": "code",
   "execution_count": null,
   "metadata": {},
   "outputs": [],
   "source": []
  }
 ],
 "metadata": {
  "kernelspec": {
   "display_name": "ReWiringKernel",
   "language": "python",
   "name": "rewiringkernel"
  },
  "language_info": {
   "codemirror_mode": {
    "name": "ipython",
    "version": 3
   },
   "file_extension": ".py",
   "mimetype": "text/x-python",
   "name": "python",
   "nbconvert_exporter": "python",
   "pygments_lexer": "ipython3",
   "version": "3.10.8"
  }
 },
 "nbformat": 4,
 "nbformat_minor": 4
}
